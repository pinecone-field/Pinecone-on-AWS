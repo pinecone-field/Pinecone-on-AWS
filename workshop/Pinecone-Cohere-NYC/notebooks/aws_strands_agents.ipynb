{
 "cells": [
  {
   "cell_type": "markdown",
   "id": "bea3def6-8e25-4bf8-90ac-a9e6d124ef1a",
   "metadata": {},
   "source": [
    "## Build agentic applications using Strands Agents open source SDK by AWS"
   ]
  },
  {
   "cell_type": "markdown",
   "id": "25ee203b-3e23-4f65-98eb-d012271b4d2f",
   "metadata": {},
   "source": [
    "### Set up AWS environment\n",
    "- If you are running this notebook in SageMaker Notebook instance, you need to give SageMaker permission to access Bedrock.\n",
    "- If you are running it in your local environment, follow the steps below to set up proper permission to access your AWS resouces, espeically Bedrock:\n",
    "\n",
    "Strands supports many different model providers, including Claude models, Amazon models, Cohere models and etc. In this workshop, we are going to use cohere model as the LLM.\n",
    "\n",
    "To use the examples in this guide, you'll need to configure your environment with AWS credentials that have permissions to invoke the LLM in Bedrock. You can set up your credentials in several ways:\n",
    "\n",
    "    Environment variables: Set AWS_ACCESS_KEY_ID, AWS_SECRET_ACCESS_KEY, and optionally AWS_SESSION_TOKEN\n",
    "    AWS credentials file: Configure credentials using aws configure CLI command\n",
    "    IAM roles: If running on AWS services like EC2, ECS, or Lambda, use IAM roles\n",
    "\n",
    "Make sure your AWS credentials have the necessary permissions to access Amazon Bedrock. You'll need to enable model access in the Amazon Bedrock console following the AWS documentation here: https://docs.aws.amazon.com/bedrock/latest/userguide/model-access-modify.html"
   ]
  },
  {
   "cell_type": "markdown",
   "id": "7bfc4578-9de6-471b-b625-0ae6ba1d63ed",
   "metadata": {},
   "source": [
    "### Install Strands Agents and other packages\n",
    "AWS Strands Agents Reference: https://strandsagents.com/0.1.x/user-guide/quickstart/"
   ]
  },
  {
   "cell_type": "code",
   "execution_count": 1,
   "id": "bfdf8171-3384-454a-823f-9639c7442061",
   "metadata": {
    "collapsed": true,
    "jupyter": {
     "outputs_hidden": true
    },
    "tags": []
   },
   "outputs": [
    {
     "name": "stdout",
     "output_type": "stream",
     "text": [
      "Collecting strands-agents\n",
      "  Downloading strands_agents-0.1.8-py3-none-any.whl.metadata (10 kB)\n",
      "Requirement already satisfied: boto3<2.0.0,>=1.26.0 in /home/ec2-user/anaconda3/envs/python3/lib/python3.10/site-packages (from strands-agents) (1.38.30)\n",
      "Requirement already satisfied: botocore<2.0.0,>=1.29.0 in /home/ec2-user/anaconda3/envs/python3/lib/python3.10/site-packages (from strands-agents) (1.38.30)\n",
      "Collecting docstring-parser<1.0,>=0.15 (from strands-agents)\n",
      "  Downloading docstring_parser-0.16-py3-none-any.whl.metadata (3.0 kB)\n",
      "Collecting mcp<2.0.0,>=1.8.0 (from strands-agents)\n",
      "  Downloading mcp-1.9.4-py3-none-any.whl.metadata (28 kB)\n",
      "Collecting opentelemetry-api<2.0.0,>=1.30.0 (from strands-agents)\n",
      "  Downloading opentelemetry_api-1.34.1-py3-none-any.whl.metadata (1.5 kB)\n",
      "Collecting opentelemetry-sdk<2.0.0,>=1.30.0 (from strands-agents)\n",
      "  Downloading opentelemetry_sdk-1.34.1-py3-none-any.whl.metadata (1.6 kB)\n",
      "Requirement already satisfied: pydantic<3.0.0,>=2.0.0 in /home/ec2-user/anaconda3/envs/python3/lib/python3.10/site-packages (from strands-agents) (2.9.2)\n",
      "Requirement already satisfied: typing-extensions<5.0.0,>=4.13.2 in /home/ec2-user/anaconda3/envs/python3/lib/python3.10/site-packages (from strands-agents) (4.13.2)\n",
      "Requirement already satisfied: watchdog<7.0.0,>=6.0.0 in /home/ec2-user/anaconda3/envs/python3/lib/python3.10/site-packages (from strands-agents) (6.0.0)\n",
      "Requirement already satisfied: jmespath<2.0.0,>=0.7.1 in /home/ec2-user/anaconda3/envs/python3/lib/python3.10/site-packages (from boto3<2.0.0,>=1.26.0->strands-agents) (1.0.1)\n",
      "Requirement already satisfied: s3transfer<0.14.0,>=0.13.0 in /home/ec2-user/anaconda3/envs/python3/lib/python3.10/site-packages (from boto3<2.0.0,>=1.26.0->strands-agents) (0.13.0)\n",
      "Requirement already satisfied: python-dateutil<3.0.0,>=2.1 in /home/ec2-user/anaconda3/envs/python3/lib/python3.10/site-packages (from botocore<2.0.0,>=1.29.0->strands-agents) (2.9.0.post0)\n",
      "Requirement already satisfied: urllib3!=2.2.0,<3,>=1.25.4 in /home/ec2-user/anaconda3/envs/python3/lib/python3.10/site-packages (from botocore<2.0.0,>=1.29.0->strands-agents) (2.4.0)\n",
      "Requirement already satisfied: anyio>=4.5 in /home/ec2-user/anaconda3/envs/python3/lib/python3.10/site-packages (from mcp<2.0.0,>=1.8.0->strands-agents) (4.9.0)\n",
      "Collecting httpx-sse>=0.4 (from mcp<2.0.0,>=1.8.0->strands-agents)\n",
      "  Using cached httpx_sse-0.4.0-py3-none-any.whl.metadata (9.0 kB)\n",
      "Requirement already satisfied: httpx>=0.27 in /home/ec2-user/anaconda3/envs/python3/lib/python3.10/site-packages (from mcp<2.0.0,>=1.8.0->strands-agents) (0.28.1)\n",
      "Collecting pydantic-settings>=2.5.2 (from mcp<2.0.0,>=1.8.0->strands-agents)\n",
      "  Using cached pydantic_settings-2.9.1-py3-none-any.whl.metadata (3.8 kB)\n",
      "Collecting python-multipart>=0.0.9 (from mcp<2.0.0,>=1.8.0->strands-agents)\n",
      "  Using cached python_multipart-0.0.20-py3-none-any.whl.metadata (1.8 kB)\n",
      "Collecting sse-starlette>=1.6.1 (from mcp<2.0.0,>=1.8.0->strands-agents)\n",
      "  Using cached sse_starlette-2.3.6-py3-none-any.whl.metadata (10 kB)\n",
      "Requirement already satisfied: starlette>=0.27 in /home/ec2-user/anaconda3/envs/python3/lib/python3.10/site-packages (from mcp<2.0.0,>=1.8.0->strands-agents) (0.46.2)\n",
      "Requirement already satisfied: uvicorn>=0.23.1 in /home/ec2-user/anaconda3/envs/python3/lib/python3.10/site-packages (from mcp<2.0.0,>=1.8.0->strands-agents) (0.34.2)\n",
      "Requirement already satisfied: importlib-metadata<8.8.0,>=6.0 in /home/ec2-user/anaconda3/envs/python3/lib/python3.10/site-packages (from opentelemetry-api<2.0.0,>=1.30.0->strands-agents) (6.11.0)\n",
      "Collecting opentelemetry-semantic-conventions==0.55b1 (from opentelemetry-sdk<2.0.0,>=1.30.0->strands-agents)\n",
      "  Downloading opentelemetry_semantic_conventions-0.55b1-py3-none-any.whl.metadata (2.5 kB)\n",
      "Requirement already satisfied: annotated-types>=0.6.0 in /home/ec2-user/anaconda3/envs/python3/lib/python3.10/site-packages (from pydantic<3.0.0,>=2.0.0->strands-agents) (0.7.0)\n",
      "Requirement already satisfied: pydantic-core==2.23.4 in /home/ec2-user/anaconda3/envs/python3/lib/python3.10/site-packages (from pydantic<3.0.0,>=2.0.0->strands-agents) (2.23.4)\n",
      "Requirement already satisfied: exceptiongroup>=1.0.2 in /home/ec2-user/anaconda3/envs/python3/lib/python3.10/site-packages (from anyio>=4.5->mcp<2.0.0,>=1.8.0->strands-agents) (1.2.2)\n",
      "Requirement already satisfied: idna>=2.8 in /home/ec2-user/anaconda3/envs/python3/lib/python3.10/site-packages (from anyio>=4.5->mcp<2.0.0,>=1.8.0->strands-agents) (3.10)\n",
      "Requirement already satisfied: sniffio>=1.1 in /home/ec2-user/anaconda3/envs/python3/lib/python3.10/site-packages (from anyio>=4.5->mcp<2.0.0,>=1.8.0->strands-agents) (1.3.1)\n",
      "Requirement already satisfied: certifi in /home/ec2-user/anaconda3/envs/python3/lib/python3.10/site-packages (from httpx>=0.27->mcp<2.0.0,>=1.8.0->strands-agents) (2025.1.31)\n",
      "Requirement already satisfied: httpcore==1.* in /home/ec2-user/anaconda3/envs/python3/lib/python3.10/site-packages (from httpx>=0.27->mcp<2.0.0,>=1.8.0->strands-agents) (1.0.7)\n",
      "Requirement already satisfied: h11<0.15,>=0.13 in /home/ec2-user/anaconda3/envs/python3/lib/python3.10/site-packages (from httpcore==1.*->httpx>=0.27->mcp<2.0.0,>=1.8.0->strands-agents) (0.14.0)\n",
      "Requirement already satisfied: zipp>=0.5 in /home/ec2-user/anaconda3/envs/python3/lib/python3.10/site-packages (from importlib-metadata<8.8.0,>=6.0->opentelemetry-api<2.0.0,>=1.30.0->strands-agents) (3.21.0)\n",
      "Requirement already satisfied: python-dotenv>=0.21.0 in /home/ec2-user/anaconda3/envs/python3/lib/python3.10/site-packages (from pydantic-settings>=2.5.2->mcp<2.0.0,>=1.8.0->strands-agents) (1.1.0)\n",
      "Collecting typing-inspection>=0.4.0 (from pydantic-settings>=2.5.2->mcp<2.0.0,>=1.8.0->strands-agents)\n",
      "  Downloading typing_inspection-0.4.1-py3-none-any.whl.metadata (2.6 kB)\n",
      "Requirement already satisfied: six>=1.5 in /home/ec2-user/anaconda3/envs/python3/lib/python3.10/site-packages (from python-dateutil<3.0.0,>=2.1->botocore<2.0.0,>=1.29.0->strands-agents) (1.17.0)\n",
      "Requirement already satisfied: click>=7.0 in /home/ec2-user/anaconda3/envs/python3/lib/python3.10/site-packages (from uvicorn>=0.23.1->mcp<2.0.0,>=1.8.0->strands-agents) (8.1.8)\n",
      "Downloading strands_agents-0.1.8-py3-none-any.whl (109 kB)\n",
      "Downloading docstring_parser-0.16-py3-none-any.whl (36 kB)\n",
      "Downloading mcp-1.9.4-py3-none-any.whl (130 kB)\n",
      "Downloading opentelemetry_api-1.34.1-py3-none-any.whl (65 kB)\n",
      "Downloading opentelemetry_sdk-1.34.1-py3-none-any.whl (118 kB)\n",
      "Downloading opentelemetry_semantic_conventions-0.55b1-py3-none-any.whl (196 kB)\n",
      "Using cached httpx_sse-0.4.0-py3-none-any.whl (7.8 kB)\n",
      "Using cached pydantic_settings-2.9.1-py3-none-any.whl (44 kB)\n",
      "Using cached python_multipart-0.0.20-py3-none-any.whl (24 kB)\n",
      "Using cached sse_starlette-2.3.6-py3-none-any.whl (10 kB)\n",
      "Downloading typing_inspection-0.4.1-py3-none-any.whl (14 kB)\n",
      "Installing collected packages: typing-inspection, python-multipart, httpx-sse, docstring-parser, sse-starlette, opentelemetry-api, pydantic-settings, opentelemetry-semantic-conventions, opentelemetry-sdk, mcp, strands-agents\n",
      "Successfully installed docstring-parser-0.16 httpx-sse-0.4.0 mcp-1.9.4 opentelemetry-api-1.34.1 opentelemetry-sdk-1.34.1 opentelemetry-semantic-conventions-0.55b1 pydantic-settings-2.9.1 python-multipart-0.0.20 sse-starlette-2.3.6 strands-agents-0.1.8 typing-inspection-0.4.1\n",
      "Collecting strands-agents-tools\n",
      "  Downloading strands_agents_tools-0.1.6-py3-none-any.whl.metadata (22 kB)\n",
      "Collecting aws-requests-auth<0.5.0,>=0.4.3 (from strands-agents-tools)\n",
      "  Using cached aws_requests_auth-0.4.3-py2.py3-none-any.whl.metadata (567 bytes)\n",
      "Requirement already satisfied: colorama<0.5.0,>=0.4.6 in /home/ec2-user/anaconda3/envs/python3/lib/python3.10/site-packages (from strands-agents-tools) (0.4.6)\n",
      "Requirement already satisfied: dill<0.5.0,>=0.4.0 in /home/ec2-user/anaconda3/envs/python3/lib/python3.10/site-packages (from strands-agents-tools) (0.4.0)\n",
      "Requirement already satisfied: pillow<12.0.0,>=11.2.1 in /home/ec2-user/anaconda3/envs/python3/lib/python3.10/site-packages (from strands-agents-tools) (11.2.1)\n",
      "Requirement already satisfied: prompt-toolkit<4.0.0,>=3.0.51 in /home/ec2-user/anaconda3/envs/python3/lib/python3.10/site-packages (from strands-agents-tools) (3.0.51)\n",
      "Requirement already satisfied: pyjwt<3.0.0,>=2.10.1 in /home/ec2-user/anaconda3/envs/python3/lib/python3.10/site-packages (from strands-agents-tools) (2.10.1)\n",
      "Requirement already satisfied: rich<15.0.0,>=14.0.0 in /home/ec2-user/anaconda3/envs/python3/lib/python3.10/site-packages (from strands-agents-tools) (14.0.0)\n",
      "Collecting slack-bolt<2.0.0,>=1.23.0 (from strands-agents-tools)\n",
      "  Using cached slack_bolt-1.23.0-py2.py3-none-any.whl.metadata (11 kB)\n",
      "Requirement already satisfied: strands-agents<1.0.0,>=0.1.0 in /home/ec2-user/anaconda3/envs/python3/lib/python3.10/site-packages (from strands-agents-tools) (0.1.8)\n",
      "Requirement already satisfied: sympy<2.0.0,>=1.12.0 in /home/ec2-user/anaconda3/envs/python3/lib/python3.10/site-packages (from strands-agents-tools) (1.13.3)\n",
      "Collecting tenacity<10.0.0,>=9.1.2 (from strands-agents-tools)\n",
      "  Using cached tenacity-9.1.2-py3-none-any.whl.metadata (1.2 kB)\n",
      "Requirement already satisfied: watchdog<7.0.0,>=6.0.0 in /home/ec2-user/anaconda3/envs/python3/lib/python3.10/site-packages (from strands-agents-tools) (6.0.0)\n",
      "Requirement already satisfied: requests>=0.14.0 in /home/ec2-user/anaconda3/envs/python3/lib/python3.10/site-packages (from aws-requests-auth<0.5.0,>=0.4.3->strands-agents-tools) (2.32.3)\n",
      "Requirement already satisfied: wcwidth in /home/ec2-user/anaconda3/envs/python3/lib/python3.10/site-packages (from prompt-toolkit<4.0.0,>=3.0.51->strands-agents-tools) (0.2.13)\n",
      "Requirement already satisfied: markdown-it-py>=2.2.0 in /home/ec2-user/anaconda3/envs/python3/lib/python3.10/site-packages (from rich<15.0.0,>=14.0.0->strands-agents-tools) (3.0.0)\n",
      "Requirement already satisfied: pygments<3.0.0,>=2.13.0 in /home/ec2-user/anaconda3/envs/python3/lib/python3.10/site-packages (from rich<15.0.0,>=14.0.0->strands-agents-tools) (2.19.1)\n",
      "Requirement already satisfied: typing-extensions<5.0,>=4.0.0 in /home/ec2-user/anaconda3/envs/python3/lib/python3.10/site-packages (from rich<15.0.0,>=14.0.0->strands-agents-tools) (4.13.2)\n",
      "Collecting slack_sdk<4,>=3.35.0 (from slack-bolt<2.0.0,>=1.23.0->strands-agents-tools)\n",
      "  Using cached slack_sdk-3.35.0-py2.py3-none-any.whl.metadata (15 kB)\n",
      "Requirement already satisfied: boto3<2.0.0,>=1.26.0 in /home/ec2-user/anaconda3/envs/python3/lib/python3.10/site-packages (from strands-agents<1.0.0,>=0.1.0->strands-agents-tools) (1.38.30)\n",
      "Requirement already satisfied: botocore<2.0.0,>=1.29.0 in /home/ec2-user/anaconda3/envs/python3/lib/python3.10/site-packages (from strands-agents<1.0.0,>=0.1.0->strands-agents-tools) (1.38.30)\n",
      "Requirement already satisfied: docstring-parser<1.0,>=0.15 in /home/ec2-user/anaconda3/envs/python3/lib/python3.10/site-packages (from strands-agents<1.0.0,>=0.1.0->strands-agents-tools) (0.16)\n",
      "Requirement already satisfied: mcp<2.0.0,>=1.8.0 in /home/ec2-user/anaconda3/envs/python3/lib/python3.10/site-packages (from strands-agents<1.0.0,>=0.1.0->strands-agents-tools) (1.9.4)\n",
      "Requirement already satisfied: opentelemetry-api<2.0.0,>=1.30.0 in /home/ec2-user/anaconda3/envs/python3/lib/python3.10/site-packages (from strands-agents<1.0.0,>=0.1.0->strands-agents-tools) (1.34.1)\n",
      "Requirement already satisfied: opentelemetry-sdk<2.0.0,>=1.30.0 in /home/ec2-user/anaconda3/envs/python3/lib/python3.10/site-packages (from strands-agents<1.0.0,>=0.1.0->strands-agents-tools) (1.34.1)\n",
      "Requirement already satisfied: pydantic<3.0.0,>=2.0.0 in /home/ec2-user/anaconda3/envs/python3/lib/python3.10/site-packages (from strands-agents<1.0.0,>=0.1.0->strands-agents-tools) (2.9.2)\n",
      "Requirement already satisfied: mpmath<1.4,>=1.1.0 in /home/ec2-user/anaconda3/envs/python3/lib/python3.10/site-packages (from sympy<2.0.0,>=1.12.0->strands-agents-tools) (1.3.0)\n",
      "Requirement already satisfied: jmespath<2.0.0,>=0.7.1 in /home/ec2-user/anaconda3/envs/python3/lib/python3.10/site-packages (from boto3<2.0.0,>=1.26.0->strands-agents<1.0.0,>=0.1.0->strands-agents-tools) (1.0.1)\n",
      "Requirement already satisfied: s3transfer<0.14.0,>=0.13.0 in /home/ec2-user/anaconda3/envs/python3/lib/python3.10/site-packages (from boto3<2.0.0,>=1.26.0->strands-agents<1.0.0,>=0.1.0->strands-agents-tools) (0.13.0)\n",
      "Requirement already satisfied: python-dateutil<3.0.0,>=2.1 in /home/ec2-user/anaconda3/envs/python3/lib/python3.10/site-packages (from botocore<2.0.0,>=1.29.0->strands-agents<1.0.0,>=0.1.0->strands-agents-tools) (2.9.0.post0)\n",
      "Requirement already satisfied: urllib3!=2.2.0,<3,>=1.25.4 in /home/ec2-user/anaconda3/envs/python3/lib/python3.10/site-packages (from botocore<2.0.0,>=1.29.0->strands-agents<1.0.0,>=0.1.0->strands-agents-tools) (2.4.0)\n",
      "Requirement already satisfied: mdurl~=0.1 in /home/ec2-user/anaconda3/envs/python3/lib/python3.10/site-packages (from markdown-it-py>=2.2.0->rich<15.0.0,>=14.0.0->strands-agents-tools) (0.1.2)\n",
      "Requirement already satisfied: anyio>=4.5 in /home/ec2-user/anaconda3/envs/python3/lib/python3.10/site-packages (from mcp<2.0.0,>=1.8.0->strands-agents<1.0.0,>=0.1.0->strands-agents-tools) (4.9.0)\n",
      "Requirement already satisfied: httpx-sse>=0.4 in /home/ec2-user/anaconda3/envs/python3/lib/python3.10/site-packages (from mcp<2.0.0,>=1.8.0->strands-agents<1.0.0,>=0.1.0->strands-agents-tools) (0.4.0)\n",
      "Requirement already satisfied: httpx>=0.27 in /home/ec2-user/anaconda3/envs/python3/lib/python3.10/site-packages (from mcp<2.0.0,>=1.8.0->strands-agents<1.0.0,>=0.1.0->strands-agents-tools) (0.28.1)\n",
      "Requirement already satisfied: pydantic-settings>=2.5.2 in /home/ec2-user/anaconda3/envs/python3/lib/python3.10/site-packages (from mcp<2.0.0,>=1.8.0->strands-agents<1.0.0,>=0.1.0->strands-agents-tools) (2.9.1)\n",
      "Requirement already satisfied: python-multipart>=0.0.9 in /home/ec2-user/anaconda3/envs/python3/lib/python3.10/site-packages (from mcp<2.0.0,>=1.8.0->strands-agents<1.0.0,>=0.1.0->strands-agents-tools) (0.0.20)\n",
      "Requirement already satisfied: sse-starlette>=1.6.1 in /home/ec2-user/anaconda3/envs/python3/lib/python3.10/site-packages (from mcp<2.0.0,>=1.8.0->strands-agents<1.0.0,>=0.1.0->strands-agents-tools) (2.3.6)\n",
      "Requirement already satisfied: starlette>=0.27 in /home/ec2-user/anaconda3/envs/python3/lib/python3.10/site-packages (from mcp<2.0.0,>=1.8.0->strands-agents<1.0.0,>=0.1.0->strands-agents-tools) (0.46.2)\n",
      "Requirement already satisfied: uvicorn>=0.23.1 in /home/ec2-user/anaconda3/envs/python3/lib/python3.10/site-packages (from mcp<2.0.0,>=1.8.0->strands-agents<1.0.0,>=0.1.0->strands-agents-tools) (0.34.2)\n",
      "Requirement already satisfied: importlib-metadata<8.8.0,>=6.0 in /home/ec2-user/anaconda3/envs/python3/lib/python3.10/site-packages (from opentelemetry-api<2.0.0,>=1.30.0->strands-agents<1.0.0,>=0.1.0->strands-agents-tools) (6.11.0)\n",
      "Requirement already satisfied: opentelemetry-semantic-conventions==0.55b1 in /home/ec2-user/anaconda3/envs/python3/lib/python3.10/site-packages (from opentelemetry-sdk<2.0.0,>=1.30.0->strands-agents<1.0.0,>=0.1.0->strands-agents-tools) (0.55b1)\n",
      "Requirement already satisfied: annotated-types>=0.6.0 in /home/ec2-user/anaconda3/envs/python3/lib/python3.10/site-packages (from pydantic<3.0.0,>=2.0.0->strands-agents<1.0.0,>=0.1.0->strands-agents-tools) (0.7.0)\n",
      "Requirement already satisfied: pydantic-core==2.23.4 in /home/ec2-user/anaconda3/envs/python3/lib/python3.10/site-packages (from pydantic<3.0.0,>=2.0.0->strands-agents<1.0.0,>=0.1.0->strands-agents-tools) (2.23.4)\n",
      "Requirement already satisfied: charset_normalizer<4,>=2 in /home/ec2-user/anaconda3/envs/python3/lib/python3.10/site-packages (from requests>=0.14.0->aws-requests-auth<0.5.0,>=0.4.3->strands-agents-tools) (3.4.1)\n",
      "Requirement already satisfied: idna<4,>=2.5 in /home/ec2-user/anaconda3/envs/python3/lib/python3.10/site-packages (from requests>=0.14.0->aws-requests-auth<0.5.0,>=0.4.3->strands-agents-tools) (3.10)\n",
      "Requirement already satisfied: certifi>=2017.4.17 in /home/ec2-user/anaconda3/envs/python3/lib/python3.10/site-packages (from requests>=0.14.0->aws-requests-auth<0.5.0,>=0.4.3->strands-agents-tools) (2025.1.31)\n",
      "Requirement already satisfied: exceptiongroup>=1.0.2 in /home/ec2-user/anaconda3/envs/python3/lib/python3.10/site-packages (from anyio>=4.5->mcp<2.0.0,>=1.8.0->strands-agents<1.0.0,>=0.1.0->strands-agents-tools) (1.2.2)\n",
      "Requirement already satisfied: sniffio>=1.1 in /home/ec2-user/anaconda3/envs/python3/lib/python3.10/site-packages (from anyio>=4.5->mcp<2.0.0,>=1.8.0->strands-agents<1.0.0,>=0.1.0->strands-agents-tools) (1.3.1)\n",
      "Requirement already satisfied: httpcore==1.* in /home/ec2-user/anaconda3/envs/python3/lib/python3.10/site-packages (from httpx>=0.27->mcp<2.0.0,>=1.8.0->strands-agents<1.0.0,>=0.1.0->strands-agents-tools) (1.0.7)\n",
      "Requirement already satisfied: h11<0.15,>=0.13 in /home/ec2-user/anaconda3/envs/python3/lib/python3.10/site-packages (from httpcore==1.*->httpx>=0.27->mcp<2.0.0,>=1.8.0->strands-agents<1.0.0,>=0.1.0->strands-agents-tools) (0.14.0)\n",
      "Requirement already satisfied: zipp>=0.5 in /home/ec2-user/anaconda3/envs/python3/lib/python3.10/site-packages (from importlib-metadata<8.8.0,>=6.0->opentelemetry-api<2.0.0,>=1.30.0->strands-agents<1.0.0,>=0.1.0->strands-agents-tools) (3.21.0)\n",
      "Requirement already satisfied: python-dotenv>=0.21.0 in /home/ec2-user/anaconda3/envs/python3/lib/python3.10/site-packages (from pydantic-settings>=2.5.2->mcp<2.0.0,>=1.8.0->strands-agents<1.0.0,>=0.1.0->strands-agents-tools) (1.1.0)\n",
      "Requirement already satisfied: typing-inspection>=0.4.0 in /home/ec2-user/anaconda3/envs/python3/lib/python3.10/site-packages (from pydantic-settings>=2.5.2->mcp<2.0.0,>=1.8.0->strands-agents<1.0.0,>=0.1.0->strands-agents-tools) (0.4.1)\n",
      "Requirement already satisfied: six>=1.5 in /home/ec2-user/anaconda3/envs/python3/lib/python3.10/site-packages (from python-dateutil<3.0.0,>=2.1->botocore<2.0.0,>=1.29.0->strands-agents<1.0.0,>=0.1.0->strands-agents-tools) (1.17.0)\n",
      "Requirement already satisfied: click>=7.0 in /home/ec2-user/anaconda3/envs/python3/lib/python3.10/site-packages (from uvicorn>=0.23.1->mcp<2.0.0,>=1.8.0->strands-agents<1.0.0,>=0.1.0->strands-agents-tools) (8.1.8)\n",
      "Downloading strands_agents_tools-0.1.6-py3-none-any.whl (159 kB)\n",
      "Using cached aws_requests_auth-0.4.3-py2.py3-none-any.whl (6.8 kB)\n",
      "Using cached slack_bolt-1.23.0-py2.py3-none-any.whl (229 kB)\n",
      "Using cached tenacity-9.1.2-py3-none-any.whl (28 kB)\n",
      "Using cached slack_sdk-3.35.0-py2.py3-none-any.whl (293 kB)\n",
      "Installing collected packages: tenacity, slack_sdk, slack-bolt, aws-requests-auth, strands-agents-tools\n",
      "Successfully installed aws-requests-auth-0.4.3 slack-bolt-1.23.0 slack_sdk-3.35.0 strands-agents-tools-0.1.6 tenacity-9.1.2\n",
      "Collecting strands-agents-builder\n",
      "  Downloading strands_agents_builder-0.1.3-py3-none-any.whl.metadata (11 kB)\n",
      "Collecting halo<1.0.0,>=0.0.31 (from strands-agents-builder)\n",
      "  Using cached halo-0.0.31-py3-none-any.whl\n",
      "Requirement already satisfied: prompt-toolkit<4.0.0,>=3.0.51 in /home/ec2-user/anaconda3/envs/python3/lib/python3.10/site-packages (from strands-agents-builder) (3.0.51)\n",
      "Requirement already satisfied: rich<15.0.0,>=14.0.0 in /home/ec2-user/anaconda3/envs/python3/lib/python3.10/site-packages (from strands-agents-builder) (14.0.0)\n",
      "Requirement already satisfied: strands-agents-tools<1.0.0,>=0.1.0 in /home/ec2-user/anaconda3/envs/python3/lib/python3.10/site-packages (from strands-agents-builder) (0.1.6)\n",
      "Requirement already satisfied: strands-agents<1.0.0,>=0.1.0 in /home/ec2-user/anaconda3/envs/python3/lib/python3.10/site-packages (from strands-agents[ollama]<1.0.0,>=0.1.0->strands-agents-builder) (0.1.8)\n",
      "Collecting log_symbols>=0.0.14 (from halo<1.0.0,>=0.0.31->strands-agents-builder)\n",
      "  Using cached log_symbols-0.0.14-py3-none-any.whl.metadata (523 bytes)\n",
      "Collecting spinners>=0.0.24 (from halo<1.0.0,>=0.0.31->strands-agents-builder)\n",
      "  Using cached spinners-0.0.24-py3-none-any.whl.metadata (576 bytes)\n",
      "Collecting termcolor>=1.1.0 (from halo<1.0.0,>=0.0.31->strands-agents-builder)\n",
      "  Downloading termcolor-3.1.0-py3-none-any.whl.metadata (6.4 kB)\n",
      "Requirement already satisfied: colorama>=0.3.9 in /home/ec2-user/anaconda3/envs/python3/lib/python3.10/site-packages (from halo<1.0.0,>=0.0.31->strands-agents-builder) (0.4.6)\n",
      "Requirement already satisfied: six>=1.12.0 in /home/ec2-user/anaconda3/envs/python3/lib/python3.10/site-packages (from halo<1.0.0,>=0.0.31->strands-agents-builder) (1.17.0)\n",
      "Requirement already satisfied: wcwidth in /home/ec2-user/anaconda3/envs/python3/lib/python3.10/site-packages (from prompt-toolkit<4.0.0,>=3.0.51->strands-agents-builder) (0.2.13)\n",
      "Requirement already satisfied: markdown-it-py>=2.2.0 in /home/ec2-user/anaconda3/envs/python3/lib/python3.10/site-packages (from rich<15.0.0,>=14.0.0->strands-agents-builder) (3.0.0)\n",
      "Requirement already satisfied: pygments<3.0.0,>=2.13.0 in /home/ec2-user/anaconda3/envs/python3/lib/python3.10/site-packages (from rich<15.0.0,>=14.0.0->strands-agents-builder) (2.19.1)\n",
      "Requirement already satisfied: typing-extensions<5.0,>=4.0.0 in /home/ec2-user/anaconda3/envs/python3/lib/python3.10/site-packages (from rich<15.0.0,>=14.0.0->strands-agents-builder) (4.13.2)\n",
      "Requirement already satisfied: boto3<2.0.0,>=1.26.0 in /home/ec2-user/anaconda3/envs/python3/lib/python3.10/site-packages (from strands-agents<1.0.0,>=0.1.0->strands-agents[ollama]<1.0.0,>=0.1.0->strands-agents-builder) (1.38.30)\n",
      "Requirement already satisfied: botocore<2.0.0,>=1.29.0 in /home/ec2-user/anaconda3/envs/python3/lib/python3.10/site-packages (from strands-agents<1.0.0,>=0.1.0->strands-agents[ollama]<1.0.0,>=0.1.0->strands-agents-builder) (1.38.30)\n",
      "Requirement already satisfied: docstring-parser<1.0,>=0.15 in /home/ec2-user/anaconda3/envs/python3/lib/python3.10/site-packages (from strands-agents<1.0.0,>=0.1.0->strands-agents[ollama]<1.0.0,>=0.1.0->strands-agents-builder) (0.16)\n",
      "Requirement already satisfied: mcp<2.0.0,>=1.8.0 in /home/ec2-user/anaconda3/envs/python3/lib/python3.10/site-packages (from strands-agents<1.0.0,>=0.1.0->strands-agents[ollama]<1.0.0,>=0.1.0->strands-agents-builder) (1.9.4)\n",
      "Requirement already satisfied: opentelemetry-api<2.0.0,>=1.30.0 in /home/ec2-user/anaconda3/envs/python3/lib/python3.10/site-packages (from strands-agents<1.0.0,>=0.1.0->strands-agents[ollama]<1.0.0,>=0.1.0->strands-agents-builder) (1.34.1)\n",
      "Requirement already satisfied: opentelemetry-sdk<2.0.0,>=1.30.0 in /home/ec2-user/anaconda3/envs/python3/lib/python3.10/site-packages (from strands-agents<1.0.0,>=0.1.0->strands-agents[ollama]<1.0.0,>=0.1.0->strands-agents-builder) (1.34.1)\n",
      "Requirement already satisfied: pydantic<3.0.0,>=2.0.0 in /home/ec2-user/anaconda3/envs/python3/lib/python3.10/site-packages (from strands-agents<1.0.0,>=0.1.0->strands-agents[ollama]<1.0.0,>=0.1.0->strands-agents-builder) (2.9.2)\n",
      "Requirement already satisfied: watchdog<7.0.0,>=6.0.0 in /home/ec2-user/anaconda3/envs/python3/lib/python3.10/site-packages (from strands-agents<1.0.0,>=0.1.0->strands-agents[ollama]<1.0.0,>=0.1.0->strands-agents-builder) (6.0.0)\n",
      "Requirement already satisfied: aws-requests-auth<0.5.0,>=0.4.3 in /home/ec2-user/anaconda3/envs/python3/lib/python3.10/site-packages (from strands-agents-tools<1.0.0,>=0.1.0->strands-agents-builder) (0.4.3)\n",
      "Requirement already satisfied: dill<0.5.0,>=0.4.0 in /home/ec2-user/anaconda3/envs/python3/lib/python3.10/site-packages (from strands-agents-tools<1.0.0,>=0.1.0->strands-agents-builder) (0.4.0)\n",
      "Requirement already satisfied: pillow<12.0.0,>=11.2.1 in /home/ec2-user/anaconda3/envs/python3/lib/python3.10/site-packages (from strands-agents-tools<1.0.0,>=0.1.0->strands-agents-builder) (11.2.1)\n",
      "Requirement already satisfied: pyjwt<3.0.0,>=2.10.1 in /home/ec2-user/anaconda3/envs/python3/lib/python3.10/site-packages (from strands-agents-tools<1.0.0,>=0.1.0->strands-agents-builder) (2.10.1)\n",
      "Requirement already satisfied: slack-bolt<2.0.0,>=1.23.0 in /home/ec2-user/anaconda3/envs/python3/lib/python3.10/site-packages (from strands-agents-tools<1.0.0,>=0.1.0->strands-agents-builder) (1.23.0)\n",
      "Requirement already satisfied: sympy<2.0.0,>=1.12.0 in /home/ec2-user/anaconda3/envs/python3/lib/python3.10/site-packages (from strands-agents-tools<1.0.0,>=0.1.0->strands-agents-builder) (1.13.3)\n",
      "Requirement already satisfied: tenacity<10.0.0,>=9.1.2 in /home/ec2-user/anaconda3/envs/python3/lib/python3.10/site-packages (from strands-agents-tools<1.0.0,>=0.1.0->strands-agents-builder) (9.1.2)\n",
      "Collecting ollama<1.0.0,>=0.4.8 (from strands-agents[ollama]<1.0.0,>=0.1.0->strands-agents-builder)\n",
      "  Using cached ollama-0.5.1-py3-none-any.whl.metadata (4.3 kB)\n",
      "Requirement already satisfied: requests>=0.14.0 in /home/ec2-user/anaconda3/envs/python3/lib/python3.10/site-packages (from aws-requests-auth<0.5.0,>=0.4.3->strands-agents-tools<1.0.0,>=0.1.0->strands-agents-builder) (2.32.3)\n",
      "Requirement already satisfied: jmespath<2.0.0,>=0.7.1 in /home/ec2-user/anaconda3/envs/python3/lib/python3.10/site-packages (from boto3<2.0.0,>=1.26.0->strands-agents<1.0.0,>=0.1.0->strands-agents[ollama]<1.0.0,>=0.1.0->strands-agents-builder) (1.0.1)\n",
      "Requirement already satisfied: s3transfer<0.14.0,>=0.13.0 in /home/ec2-user/anaconda3/envs/python3/lib/python3.10/site-packages (from boto3<2.0.0,>=1.26.0->strands-agents<1.0.0,>=0.1.0->strands-agents[ollama]<1.0.0,>=0.1.0->strands-agents-builder) (0.13.0)\n",
      "Requirement already satisfied: python-dateutil<3.0.0,>=2.1 in /home/ec2-user/anaconda3/envs/python3/lib/python3.10/site-packages (from botocore<2.0.0,>=1.29.0->strands-agents<1.0.0,>=0.1.0->strands-agents[ollama]<1.0.0,>=0.1.0->strands-agents-builder) (2.9.0.post0)\n",
      "Requirement already satisfied: urllib3!=2.2.0,<3,>=1.25.4 in /home/ec2-user/anaconda3/envs/python3/lib/python3.10/site-packages (from botocore<2.0.0,>=1.29.0->strands-agents<1.0.0,>=0.1.0->strands-agents[ollama]<1.0.0,>=0.1.0->strands-agents-builder) (2.4.0)\n",
      "Requirement already satisfied: mdurl~=0.1 in /home/ec2-user/anaconda3/envs/python3/lib/python3.10/site-packages (from markdown-it-py>=2.2.0->rich<15.0.0,>=14.0.0->strands-agents-builder) (0.1.2)\n",
      "Requirement already satisfied: anyio>=4.5 in /home/ec2-user/anaconda3/envs/python3/lib/python3.10/site-packages (from mcp<2.0.0,>=1.8.0->strands-agents<1.0.0,>=0.1.0->strands-agents[ollama]<1.0.0,>=0.1.0->strands-agents-builder) (4.9.0)\n",
      "Requirement already satisfied: httpx-sse>=0.4 in /home/ec2-user/anaconda3/envs/python3/lib/python3.10/site-packages (from mcp<2.0.0,>=1.8.0->strands-agents<1.0.0,>=0.1.0->strands-agents[ollama]<1.0.0,>=0.1.0->strands-agents-builder) (0.4.0)\n",
      "Requirement already satisfied: httpx>=0.27 in /home/ec2-user/anaconda3/envs/python3/lib/python3.10/site-packages (from mcp<2.0.0,>=1.8.0->strands-agents<1.0.0,>=0.1.0->strands-agents[ollama]<1.0.0,>=0.1.0->strands-agents-builder) (0.28.1)\n",
      "Requirement already satisfied: pydantic-settings>=2.5.2 in /home/ec2-user/anaconda3/envs/python3/lib/python3.10/site-packages (from mcp<2.0.0,>=1.8.0->strands-agents<1.0.0,>=0.1.0->strands-agents[ollama]<1.0.0,>=0.1.0->strands-agents-builder) (2.9.1)\n",
      "Requirement already satisfied: python-multipart>=0.0.9 in /home/ec2-user/anaconda3/envs/python3/lib/python3.10/site-packages (from mcp<2.0.0,>=1.8.0->strands-agents<1.0.0,>=0.1.0->strands-agents[ollama]<1.0.0,>=0.1.0->strands-agents-builder) (0.0.20)\n",
      "Requirement already satisfied: sse-starlette>=1.6.1 in /home/ec2-user/anaconda3/envs/python3/lib/python3.10/site-packages (from mcp<2.0.0,>=1.8.0->strands-agents<1.0.0,>=0.1.0->strands-agents[ollama]<1.0.0,>=0.1.0->strands-agents-builder) (2.3.6)\n",
      "Requirement already satisfied: starlette>=0.27 in /home/ec2-user/anaconda3/envs/python3/lib/python3.10/site-packages (from mcp<2.0.0,>=1.8.0->strands-agents<1.0.0,>=0.1.0->strands-agents[ollama]<1.0.0,>=0.1.0->strands-agents-builder) (0.46.2)\n",
      "Requirement already satisfied: uvicorn>=0.23.1 in /home/ec2-user/anaconda3/envs/python3/lib/python3.10/site-packages (from mcp<2.0.0,>=1.8.0->strands-agents<1.0.0,>=0.1.0->strands-agents[ollama]<1.0.0,>=0.1.0->strands-agents-builder) (0.34.2)\n",
      "Requirement already satisfied: importlib-metadata<8.8.0,>=6.0 in /home/ec2-user/anaconda3/envs/python3/lib/python3.10/site-packages (from opentelemetry-api<2.0.0,>=1.30.0->strands-agents<1.0.0,>=0.1.0->strands-agents[ollama]<1.0.0,>=0.1.0->strands-agents-builder) (6.11.0)\n",
      "Requirement already satisfied: opentelemetry-semantic-conventions==0.55b1 in /home/ec2-user/anaconda3/envs/python3/lib/python3.10/site-packages (from opentelemetry-sdk<2.0.0,>=1.30.0->strands-agents<1.0.0,>=0.1.0->strands-agents[ollama]<1.0.0,>=0.1.0->strands-agents-builder) (0.55b1)\n",
      "Requirement already satisfied: annotated-types>=0.6.0 in /home/ec2-user/anaconda3/envs/python3/lib/python3.10/site-packages (from pydantic<3.0.0,>=2.0.0->strands-agents<1.0.0,>=0.1.0->strands-agents[ollama]<1.0.0,>=0.1.0->strands-agents-builder) (0.7.0)\n",
      "Requirement already satisfied: pydantic-core==2.23.4 in /home/ec2-user/anaconda3/envs/python3/lib/python3.10/site-packages (from pydantic<3.0.0,>=2.0.0->strands-agents<1.0.0,>=0.1.0->strands-agents[ollama]<1.0.0,>=0.1.0->strands-agents-builder) (2.23.4)\n",
      "Requirement already satisfied: slack_sdk<4,>=3.35.0 in /home/ec2-user/anaconda3/envs/python3/lib/python3.10/site-packages (from slack-bolt<2.0.0,>=1.23.0->strands-agents-tools<1.0.0,>=0.1.0->strands-agents-builder) (3.35.0)\n",
      "Requirement already satisfied: mpmath<1.4,>=1.1.0 in /home/ec2-user/anaconda3/envs/python3/lib/python3.10/site-packages (from sympy<2.0.0,>=1.12.0->strands-agents-tools<1.0.0,>=0.1.0->strands-agents-builder) (1.3.0)\n",
      "Requirement already satisfied: exceptiongroup>=1.0.2 in /home/ec2-user/anaconda3/envs/python3/lib/python3.10/site-packages (from anyio>=4.5->mcp<2.0.0,>=1.8.0->strands-agents<1.0.0,>=0.1.0->strands-agents[ollama]<1.0.0,>=0.1.0->strands-agents-builder) (1.2.2)\n",
      "Requirement already satisfied: idna>=2.8 in /home/ec2-user/anaconda3/envs/python3/lib/python3.10/site-packages (from anyio>=4.5->mcp<2.0.0,>=1.8.0->strands-agents<1.0.0,>=0.1.0->strands-agents[ollama]<1.0.0,>=0.1.0->strands-agents-builder) (3.10)\n",
      "Requirement already satisfied: sniffio>=1.1 in /home/ec2-user/anaconda3/envs/python3/lib/python3.10/site-packages (from anyio>=4.5->mcp<2.0.0,>=1.8.0->strands-agents<1.0.0,>=0.1.0->strands-agents[ollama]<1.0.0,>=0.1.0->strands-agents-builder) (1.3.1)\n",
      "Requirement already satisfied: certifi in /home/ec2-user/anaconda3/envs/python3/lib/python3.10/site-packages (from httpx>=0.27->mcp<2.0.0,>=1.8.0->strands-agents<1.0.0,>=0.1.0->strands-agents[ollama]<1.0.0,>=0.1.0->strands-agents-builder) (2025.1.31)\n",
      "Requirement already satisfied: httpcore==1.* in /home/ec2-user/anaconda3/envs/python3/lib/python3.10/site-packages (from httpx>=0.27->mcp<2.0.0,>=1.8.0->strands-agents<1.0.0,>=0.1.0->strands-agents[ollama]<1.0.0,>=0.1.0->strands-agents-builder) (1.0.7)\n",
      "Requirement already satisfied: h11<0.15,>=0.13 in /home/ec2-user/anaconda3/envs/python3/lib/python3.10/site-packages (from httpcore==1.*->httpx>=0.27->mcp<2.0.0,>=1.8.0->strands-agents<1.0.0,>=0.1.0->strands-agents[ollama]<1.0.0,>=0.1.0->strands-agents-builder) (0.14.0)\n",
      "Requirement already satisfied: zipp>=0.5 in /home/ec2-user/anaconda3/envs/python3/lib/python3.10/site-packages (from importlib-metadata<8.8.0,>=6.0->opentelemetry-api<2.0.0,>=1.30.0->strands-agents<1.0.0,>=0.1.0->strands-agents[ollama]<1.0.0,>=0.1.0->strands-agents-builder) (3.21.0)\n",
      "Requirement already satisfied: python-dotenv>=0.21.0 in /home/ec2-user/anaconda3/envs/python3/lib/python3.10/site-packages (from pydantic-settings>=2.5.2->mcp<2.0.0,>=1.8.0->strands-agents<1.0.0,>=0.1.0->strands-agents[ollama]<1.0.0,>=0.1.0->strands-agents-builder) (1.1.0)\n",
      "Requirement already satisfied: typing-inspection>=0.4.0 in /home/ec2-user/anaconda3/envs/python3/lib/python3.10/site-packages (from pydantic-settings>=2.5.2->mcp<2.0.0,>=1.8.0->strands-agents<1.0.0,>=0.1.0->strands-agents[ollama]<1.0.0,>=0.1.0->strands-agents-builder) (0.4.1)\n",
      "Requirement already satisfied: charset_normalizer<4,>=2 in /home/ec2-user/anaconda3/envs/python3/lib/python3.10/site-packages (from requests>=0.14.0->aws-requests-auth<0.5.0,>=0.4.3->strands-agents-tools<1.0.0,>=0.1.0->strands-agents-builder) (3.4.1)\n",
      "Requirement already satisfied: click>=7.0 in /home/ec2-user/anaconda3/envs/python3/lib/python3.10/site-packages (from uvicorn>=0.23.1->mcp<2.0.0,>=1.8.0->strands-agents<1.0.0,>=0.1.0->strands-agents[ollama]<1.0.0,>=0.1.0->strands-agents-builder) (8.1.8)\n",
      "Downloading strands_agents_builder-0.1.3-py3-none-any.whl (29 kB)\n",
      "Using cached log_symbols-0.0.14-py3-none-any.whl (3.1 kB)\n",
      "Using cached ollama-0.5.1-py3-none-any.whl (13 kB)\n",
      "Using cached spinners-0.0.24-py3-none-any.whl (5.5 kB)\n",
      "Downloading termcolor-3.1.0-py3-none-any.whl (7.7 kB)\n",
      "Installing collected packages: spinners, termcolor, log_symbols, halo, ollama, strands-agents-builder\n",
      "Successfully installed halo-0.0.31 log_symbols-0.0.14 ollama-0.5.1 spinners-0.0.24 strands-agents-builder-0.1.3 termcolor-3.1.0\n",
      "Requirement already satisfied: pinecone in /home/ec2-user/anaconda3/envs/python3/lib/python3.10/site-packages (7.0.2)\n",
      "Collecting cohere\n",
      "  Using cached cohere-5.15.0-py3-none-any.whl.metadata (3.4 kB)\n",
      "Requirement already satisfied: certifi>=2019.11.17 in /home/ec2-user/anaconda3/envs/python3/lib/python3.10/site-packages (from pinecone) (2025.1.31)\n",
      "Requirement already satisfied: pinecone-plugin-assistant<2.0.0,>=1.6.0 in /home/ec2-user/anaconda3/envs/python3/lib/python3.10/site-packages (from pinecone) (1.6.1)\n",
      "Requirement already satisfied: pinecone-plugin-interface<0.0.8,>=0.0.7 in /home/ec2-user/anaconda3/envs/python3/lib/python3.10/site-packages (from pinecone) (0.0.7)\n",
      "Requirement already satisfied: python-dateutil>=2.5.3 in /home/ec2-user/anaconda3/envs/python3/lib/python3.10/site-packages (from pinecone) (2.9.0.post0)\n",
      "Requirement already satisfied: typing-extensions>=3.7.4 in /home/ec2-user/anaconda3/envs/python3/lib/python3.10/site-packages (from pinecone) (4.13.2)\n",
      "Requirement already satisfied: urllib3>=1.26.0 in /home/ec2-user/anaconda3/envs/python3/lib/python3.10/site-packages (from pinecone) (2.4.0)\n",
      "Collecting fastavro<2.0.0,>=1.9.4 (from cohere)\n",
      "  Using cached fastavro-1.11.1-cp310-cp310-manylinux_2_17_x86_64.manylinux2014_x86_64.whl.metadata (5.7 kB)\n",
      "Requirement already satisfied: httpx>=0.21.2 in /home/ec2-user/anaconda3/envs/python3/lib/python3.10/site-packages (from cohere) (0.28.1)\n",
      "Requirement already satisfied: httpx-sse==0.4.0 in /home/ec2-user/anaconda3/envs/python3/lib/python3.10/site-packages (from cohere) (0.4.0)\n",
      "Requirement already satisfied: pydantic>=1.9.2 in /home/ec2-user/anaconda3/envs/python3/lib/python3.10/site-packages (from cohere) (2.9.2)\n",
      "Requirement already satisfied: pydantic-core<3.0.0,>=2.18.2 in /home/ec2-user/anaconda3/envs/python3/lib/python3.10/site-packages (from cohere) (2.23.4)\n",
      "Requirement already satisfied: requests<3.0.0,>=2.0.0 in /home/ec2-user/anaconda3/envs/python3/lib/python3.10/site-packages (from cohere) (2.32.3)\n",
      "Collecting tokenizers<1,>=0.15 (from cohere)\n",
      "  Using cached tokenizers-0.21.1-cp39-abi3-manylinux_2_17_x86_64.manylinux2014_x86_64.whl.metadata (6.8 kB)\n",
      "Collecting types-requests<3.0.0,>=2.0.0 (from cohere)\n",
      "  Downloading types_requests-2.32.4.20250611-py3-none-any.whl.metadata (2.1 kB)\n",
      "Requirement already satisfied: anyio in /home/ec2-user/anaconda3/envs/python3/lib/python3.10/site-packages (from httpx>=0.21.2->cohere) (4.9.0)\n",
      "Requirement already satisfied: httpcore==1.* in /home/ec2-user/anaconda3/envs/python3/lib/python3.10/site-packages (from httpx>=0.21.2->cohere) (1.0.7)\n",
      "Requirement already satisfied: idna in /home/ec2-user/anaconda3/envs/python3/lib/python3.10/site-packages (from httpx>=0.21.2->cohere) (3.10)\n",
      "Requirement already satisfied: h11<0.15,>=0.13 in /home/ec2-user/anaconda3/envs/python3/lib/python3.10/site-packages (from httpcore==1.*->httpx>=0.21.2->cohere) (0.14.0)\n",
      "Requirement already satisfied: packaging<25.0,>=24.2 in /home/ec2-user/anaconda3/envs/python3/lib/python3.10/site-packages (from pinecone-plugin-assistant<2.0.0,>=1.6.0->pinecone) (24.2)\n",
      "Requirement already satisfied: annotated-types>=0.6.0 in /home/ec2-user/anaconda3/envs/python3/lib/python3.10/site-packages (from pydantic>=1.9.2->cohere) (0.7.0)\n",
      "Requirement already satisfied: six>=1.5 in /home/ec2-user/anaconda3/envs/python3/lib/python3.10/site-packages (from python-dateutil>=2.5.3->pinecone) (1.17.0)\n",
      "Requirement already satisfied: charset_normalizer<4,>=2 in /home/ec2-user/anaconda3/envs/python3/lib/python3.10/site-packages (from requests<3.0.0,>=2.0.0->cohere) (3.4.1)\n",
      "Collecting huggingface-hub<1.0,>=0.16.4 (from tokenizers<1,>=0.15->cohere)\n",
      "  Downloading huggingface_hub-0.33.0-py3-none-any.whl.metadata (14 kB)\n",
      "Requirement already satisfied: filelock in /home/ec2-user/anaconda3/envs/python3/lib/python3.10/site-packages (from huggingface-hub<1.0,>=0.16.4->tokenizers<1,>=0.15->cohere) (3.16.1)\n",
      "Requirement already satisfied: fsspec>=2023.5.0 in /home/ec2-user/anaconda3/envs/python3/lib/python3.10/site-packages (from huggingface-hub<1.0,>=0.16.4->tokenizers<1,>=0.15->cohere) (2025.3.2)\n",
      "Requirement already satisfied: pyyaml>=5.1 in /home/ec2-user/anaconda3/envs/python3/lib/python3.10/site-packages (from huggingface-hub<1.0,>=0.16.4->tokenizers<1,>=0.15->cohere) (6.0.2)\n",
      "Requirement already satisfied: tqdm>=4.42.1 in /home/ec2-user/anaconda3/envs/python3/lib/python3.10/site-packages (from huggingface-hub<1.0,>=0.16.4->tokenizers<1,>=0.15->cohere) (4.67.1)\n",
      "Collecting hf-xet<2.0.0,>=1.1.2 (from huggingface-hub<1.0,>=0.16.4->tokenizers<1,>=0.15->cohere)\n",
      "  Downloading hf_xet-1.1.4-cp37-abi3-manylinux_2_17_x86_64.manylinux2014_x86_64.whl.metadata (879 bytes)\n",
      "Requirement already satisfied: exceptiongroup>=1.0.2 in /home/ec2-user/anaconda3/envs/python3/lib/python3.10/site-packages (from anyio->httpx>=0.21.2->cohere) (1.2.2)\n",
      "Requirement already satisfied: sniffio>=1.1 in /home/ec2-user/anaconda3/envs/python3/lib/python3.10/site-packages (from anyio->httpx>=0.21.2->cohere) (1.3.1)\n",
      "Using cached cohere-5.15.0-py3-none-any.whl (259 kB)\n",
      "Using cached fastavro-1.11.1-cp310-cp310-manylinux_2_17_x86_64.manylinux2014_x86_64.whl (3.1 MB)\n",
      "Using cached tokenizers-0.21.1-cp39-abi3-manylinux_2_17_x86_64.manylinux2014_x86_64.whl (3.0 MB)\n",
      "Downloading types_requests-2.32.4.20250611-py3-none-any.whl (20 kB)\n",
      "Downloading huggingface_hub-0.33.0-py3-none-any.whl (514 kB)\n",
      "Downloading hf_xet-1.1.4-cp37-abi3-manylinux_2_17_x86_64.manylinux2014_x86_64.whl (3.1 MB)\n",
      "\u001b[2K   \u001b[90m━━━━━━━━━━━━━━━━━━━━━━━━━━━━━━━━━━━━━━━━\u001b[0m \u001b[32m3.1/3.1 MB\u001b[0m \u001b[31m141.3 MB/s\u001b[0m eta \u001b[36m0:00:00\u001b[0m\n",
      "\u001b[?25hInstalling collected packages: types-requests, hf-xet, fastavro, huggingface-hub, tokenizers, cohere\n",
      "Successfully installed cohere-5.15.0 fastavro-1.11.1 hf-xet-1.1.4 huggingface-hub-0.33.0 tokenizers-0.21.1 types-requests-2.32.4.20250611\n",
      "Collecting duckduckgo_search\n",
      "  Using cached duckduckgo_search-8.0.4-py3-none-any.whl.metadata (16 kB)\n",
      "Requirement already satisfied: click>=8.1.8 in /home/ec2-user/anaconda3/envs/python3/lib/python3.10/site-packages (from duckduckgo_search) (8.1.8)\n",
      "Collecting primp>=0.15.0 (from duckduckgo_search)\n",
      "  Using cached primp-0.15.0-cp38-abi3-manylinux_2_17_x86_64.manylinux2014_x86_64.whl.metadata (13 kB)\n",
      "Collecting lxml>=5.3.0 (from duckduckgo_search)\n",
      "  Using cached lxml-5.4.0-cp310-cp310-manylinux_2_17_x86_64.manylinux2014_x86_64.whl.metadata (3.5 kB)\n",
      "Using cached duckduckgo_search-8.0.4-py3-none-any.whl (18 kB)\n",
      "Using cached lxml-5.4.0-cp310-cp310-manylinux_2_17_x86_64.manylinux2014_x86_64.whl (5.1 MB)\n",
      "Using cached primp-0.15.0-cp38-abi3-manylinux_2_17_x86_64.manylinux2014_x86_64.whl (3.3 MB)\n",
      "Installing collected packages: primp, lxml, duckduckgo_search\n",
      "Successfully installed duckduckgo_search-8.0.4 lxml-5.4.0 primp-0.15.0\n",
      "Requirement already satisfied: pinecone in /home/ec2-user/anaconda3/envs/python3/lib/python3.10/site-packages (7.0.2)\n",
      "Requirement already satisfied: certifi>=2019.11.17 in /home/ec2-user/anaconda3/envs/python3/lib/python3.10/site-packages (from pinecone) (2025.1.31)\n",
      "Requirement already satisfied: pinecone-plugin-assistant<2.0.0,>=1.6.0 in /home/ec2-user/anaconda3/envs/python3/lib/python3.10/site-packages (from pinecone) (1.6.1)\n",
      "Requirement already satisfied: pinecone-plugin-interface<0.0.8,>=0.0.7 in /home/ec2-user/anaconda3/envs/python3/lib/python3.10/site-packages (from pinecone) (0.0.7)\n",
      "Requirement already satisfied: python-dateutil>=2.5.3 in /home/ec2-user/anaconda3/envs/python3/lib/python3.10/site-packages (from pinecone) (2.9.0.post0)\n",
      "Requirement already satisfied: typing-extensions>=3.7.4 in /home/ec2-user/anaconda3/envs/python3/lib/python3.10/site-packages (from pinecone) (4.13.2)\n",
      "Requirement already satisfied: urllib3>=1.26.0 in /home/ec2-user/anaconda3/envs/python3/lib/python3.10/site-packages (from pinecone) (2.4.0)\n",
      "Requirement already satisfied: packaging<25.0,>=24.2 in /home/ec2-user/anaconda3/envs/python3/lib/python3.10/site-packages (from pinecone-plugin-assistant<2.0.0,>=1.6.0->pinecone) (24.2)\n",
      "Requirement already satisfied: requests<3.0.0,>=2.32.3 in /home/ec2-user/anaconda3/envs/python3/lib/python3.10/site-packages (from pinecone-plugin-assistant<2.0.0,>=1.6.0->pinecone) (2.32.3)\n",
      "Requirement already satisfied: six>=1.5 in /home/ec2-user/anaconda3/envs/python3/lib/python3.10/site-packages (from python-dateutil>=2.5.3->pinecone) (1.17.0)\n",
      "Requirement already satisfied: charset_normalizer<4,>=2 in /home/ec2-user/anaconda3/envs/python3/lib/python3.10/site-packages (from requests<3.0.0,>=2.32.3->pinecone-plugin-assistant<2.0.0,>=1.6.0->pinecone) (3.4.1)\n",
      "Requirement already satisfied: idna<4,>=2.5 in /home/ec2-user/anaconda3/envs/python3/lib/python3.10/site-packages (from requests<3.0.0,>=2.32.3->pinecone-plugin-assistant<2.0.0,>=1.6.0->pinecone) (3.10)\n"
     ]
    }
   ],
   "source": [
    "!pip install strands-agents\n",
    "!pip install strands-agents-tools \n",
    "!pip install strands-agents-builder\n",
    "!pip install pinecone cohere\n",
    "!pip install -U duckduckgo_search\n",
    "!pip install pinecone"
   ]
  },
  {
   "cell_type": "code",
   "execution_count": 2,
   "id": "13b4826e-2878-4c29-b1ba-68c11025ae26",
   "metadata": {
    "tags": []
   },
   "outputs": [],
   "source": [
    "from strands import Agent\n",
    "from strands.models import BedrockModel\n",
    "from duckduckgo_search import DDGS\n",
    "from botocore.config import Config\n",
    "import boto3\n",
    "import botocore\n",
    "from datetime import datetime, timedelta, date\n",
    "import json\n",
    "from pinecone import Pinecone"
   ]
  },
  {
   "cell_type": "markdown",
   "id": "11c889d7-2c3d-4cd3-af90-f1a8cee2c6eb",
   "metadata": {},
   "source": [
    "### 1. Test some built-in tool"
   ]
  },
  {
   "cell_type": "code",
   "execution_count": 3,
   "id": "b7c37468-9452-4706-a71a-8a9552777cc6",
   "metadata": {
    "tags": []
   },
   "outputs": [],
   "source": [
    "# Simple calculator tool\n",
    "\n",
    "from strands_tools import calculator"
   ]
  },
  {
   "cell_type": "code",
   "execution_count": 17,
   "id": "786f9ba7-72e1-4654-8a05-4e5e3c18dee5",
   "metadata": {
    "tags": []
   },
   "outputs": [],
   "source": [
    "# set the LLM to be Cohere model from Bedrock\n",
    "\n",
    "bedrock_model = BedrockModel(\n",
    "  model_id=\"cohere.command-r-plus-v1:0\",\n",
    "  region_name = \"us-west-2\",\n",
    "  temperature=0.3,\n",
    ")"
   ]
  },
  {
   "cell_type": "code",
   "execution_count": 18,
   "id": "476001f9-93ca-4de4-bd09-0611f0a3bbe4",
   "metadata": {
    "tags": []
   },
   "outputs": [
    {
     "name": "stdout",
     "output_type": "stream",
     "text": [
      "I will use the calculator tool to find the square root of 1764.\n",
      "Tool #1: calculator\n"
     ]
    },
    {
     "data": {
      "text/html": [
       "<pre style=\"white-space:pre;overflow-x:auto;line-height:normal;font-family:Menlo,'DejaVu Sans Mono',consolas,'Courier New',monospace\"><span style=\"color: #000080; text-decoration-color: #000080\">╭────────────────────────────────────────────── </span><span style=\"color: #000080; text-decoration-color: #000080; font-weight: bold\">Calculation Result</span><span style=\"color: #000080; text-decoration-color: #000080\"> ───────────────────────────────────────────────╮</span>\n",
       "<span style=\"color: #000080; text-decoration-color: #000080\">│</span>                                                                                                                 <span style=\"color: #000080; text-decoration-color: #000080\">│</span>\n",
       "<span style=\"color: #000080; text-decoration-color: #000080\">│</span>  ╭───────────┬─────────────────────╮                                                                            <span style=\"color: #000080; text-decoration-color: #000080\">│</span>\n",
       "<span style=\"color: #000080; text-decoration-color: #000080\">│</span>  │<span style=\"color: #008080; text-decoration-color: #008080\"> Operation </span>│<span style=\"color: #008000; text-decoration-color: #008000\"> Evaluate Expression </span>│                                                                            <span style=\"color: #000080; text-decoration-color: #000080\">│</span>\n",
       "<span style=\"color: #000080; text-decoration-color: #000080\">│</span>  │<span style=\"color: #008080; text-decoration-color: #008080\"> Input     </span>│<span style=\"color: #008000; text-decoration-color: #008000\"> sqrt(1764)          </span>│                                                                            <span style=\"color: #000080; text-decoration-color: #000080\">│</span>\n",
       "<span style=\"color: #000080; text-decoration-color: #000080\">│</span>  │<span style=\"color: #008080; text-decoration-color: #008080\"> Result    </span>│<span style=\"color: #008000; text-decoration-color: #008000\"> 42                  </span>│                                                                            <span style=\"color: #000080; text-decoration-color: #000080\">│</span>\n",
       "<span style=\"color: #000080; text-decoration-color: #000080\">│</span>  ╰───────────┴─────────────────────╯                                                                            <span style=\"color: #000080; text-decoration-color: #000080\">│</span>\n",
       "<span style=\"color: #000080; text-decoration-color: #000080\">│</span>                                                                                                                 <span style=\"color: #000080; text-decoration-color: #000080\">│</span>\n",
       "<span style=\"color: #000080; text-decoration-color: #000080\">╰─────────────────────────────────────────────────────────────────────────────────────────────────────────────────╯</span>\n",
       "</pre>\n"
      ],
      "text/plain": [
       "\u001b[34m╭─\u001b[0m\u001b[34m─────────────────────────────────────────────\u001b[0m\u001b[34m \u001b[0m\u001b[1;34mCalculation Result\u001b[0m\u001b[34m \u001b[0m\u001b[34m──────────────────────────────────────────────\u001b[0m\u001b[34m─╮\u001b[0m\n",
       "\u001b[34m│\u001b[0m                                                                                                                 \u001b[34m│\u001b[0m\n",
       "\u001b[34m│\u001b[0m  ╭───────────┬─────────────────────╮                                                                            \u001b[34m│\u001b[0m\n",
       "\u001b[34m│\u001b[0m  │\u001b[36m \u001b[0m\u001b[36mOperation\u001b[0m\u001b[36m \u001b[0m│\u001b[32m \u001b[0m\u001b[32mEvaluate Expression\u001b[0m\u001b[32m \u001b[0m│                                                                            \u001b[34m│\u001b[0m\n",
       "\u001b[34m│\u001b[0m  │\u001b[36m \u001b[0m\u001b[36mInput    \u001b[0m\u001b[36m \u001b[0m│\u001b[32m \u001b[0m\u001b[32msqrt(1764)         \u001b[0m\u001b[32m \u001b[0m│                                                                            \u001b[34m│\u001b[0m\n",
       "\u001b[34m│\u001b[0m  │\u001b[36m \u001b[0m\u001b[36mResult   \u001b[0m\u001b[36m \u001b[0m│\u001b[32m \u001b[0m\u001b[32m42                 \u001b[0m\u001b[32m \u001b[0m│                                                                            \u001b[34m│\u001b[0m\n",
       "\u001b[34m│\u001b[0m  ╰───────────┴─────────────────────╯                                                                            \u001b[34m│\u001b[0m\n",
       "\u001b[34m│\u001b[0m                                                                                                                 \u001b[34m│\u001b[0m\n",
       "\u001b[34m╰─────────────────────────────────────────────────────────────────────────────────────────────────────────────────╯\u001b[0m\n"
      ]
     },
     "metadata": {},
     "output_type": "display_data"
    },
    {
     "name": "stdout",
     "output_type": "stream",
     "text": [
      "The square root of 1764 is **42**."
     ]
    },
    {
     "data": {
      "text/plain": [
       "AgentResult(stop_reason='end_turn', message={'role': 'assistant', 'content': [{'text': 'The square root of 1764 is **42**.'}]}, metrics=EventLoopMetrics(cycle_count=2, tool_metrics={'calculator': ToolMetrics(tool={'toolUseId': 'tooluse_-F3cTvhwSCCGX1CCILxQeg', 'name': 'calculator', 'input': {'expression': 'sqrt(1764)', 'mode': 'evaluate', 'precision': 10}}, call_count=1, success_count=1, error_count=0, total_time=0.005624055862426758)}, cycle_durations=[2.1866273880004883], traces=[<strands.telemetry.metrics.Trace object at 0x7fe756114b20>, <strands.telemetry.metrics.Trace object at 0x7fe7561142b0>], accumulated_usage={'inputTokens': 53, 'outputTokens': 59, 'totalTokens': 112}, accumulated_metrics={'latencyMs': 4608}), state={})"
      ]
     },
     "execution_count": 18,
     "metadata": {},
     "output_type": "execute_result"
    }
   ],
   "source": [
    "agent = Agent(tools=[calculator], model=bedrock_model)\n",
    "agent(\"What is the square root of 1764\")"
   ]
  },
  {
   "cell_type": "markdown",
   "id": "868a2a59-6b33-4151-a787-0c966763a463",
   "metadata": {},
   "source": [
    "### 2. Build custom tool using Python functions"
   ]
  },
  {
   "cell_type": "code",
   "execution_count": 6,
   "id": "a52f1e1d-8933-459c-a990-7ee51eba28e4",
   "metadata": {
    "tags": []
   },
   "outputs": [],
   "source": [
    "from strands import tool"
   ]
  },
  {
   "cell_type": "markdown",
   "id": "b408bad4-6029-4639-8a86-6217b0ca25c8",
   "metadata": {},
   "source": [
    "#### Tool 1: Web search engine"
   ]
  },
  {
   "cell_type": "code",
   "execution_count": 7,
   "id": "5f2613f3-ca4a-4063-bfcd-0518e06f8d57",
   "metadata": {
    "tags": []
   },
   "outputs": [],
   "source": [
    "# Tool 1: Web search engine\n",
    "\n",
    "@tool\n",
    "def web_search_engine(query: str) -> dict:\n",
    "    '''\n",
    "    Searches the internet and retrieves content relevant to the input query\n",
    "    '''\n",
    "    # search_results = DDGS().text(\"Company where Andy Jassy is CEO\", max_results=5)\n",
    "    search_results = DDGS().text(query, max_results=5)\n",
    "    \n",
    "    return search_results"
   ]
  },
  {
   "cell_type": "markdown",
   "id": "8b173cad-e9d0-4e68-b6ad-30f51fa96b69",
   "metadata": {},
   "source": [
    "#### Tool 2: Word count"
   ]
  },
  {
   "cell_type": "code",
   "execution_count": 8,
   "id": "f5915154-b0f4-4946-a5f8-7397798d1d62",
   "metadata": {
    "tags": []
   },
   "outputs": [],
   "source": [
    "@tool\n",
    "def word_count(text: str) -> int:\n",
    "    \"\"\"Count words in text.\n",
    "\n",
    "    This docstring is used by the LLM to understand the tool's purpose.\n",
    "    \"\"\"\n",
    "    return len(text.split())\n",
    "\n"
   ]
  },
  {
   "cell_type": "markdown",
   "id": "d407bba4-60eb-4e71-b5e9-4cb0bed61799",
   "metadata": {},
   "source": [
    "#### Tool 3: Pinecone search"
   ]
  },
  {
   "cell_type": "code",
   "execution_count": 11,
   "id": "bc052c7f-dc37-4651-96ae-57df42b38503",
   "metadata": {
    "tags": []
   },
   "outputs": [
    {
     "name": "stdout",
     "output_type": "stream",
     "text": [
      "{'dimension': 1024,\n",
      " 'index_fullness': 0.0,\n",
      " 'metric': 'cosine',\n",
      " 'namespaces': {'agentic-rag': {'vector_count': 880}},\n",
      " 'total_vector_count': 880,\n",
      " 'vector_type': 'dense'}\n"
     ]
    }
   ],
   "source": [
    "pinecone_api_key = '' #Provide Pinecone API key\n",
    "\n",
    "index_name = 'pinecone-cohere-workshop' #Provide Pinecone Index name that we created in the 'Create Pinecone Index' section\n",
    "namespace = 'agentic-rag'\n",
    "\n",
    "\n",
    "pc = Pinecone(api_key=pinecone_api_key)\n",
    "\n",
    "index = pc.Index(index_name)\n",
    "print(index.describe_index_stats())"
   ]
  },
  {
   "cell_type": "code",
   "execution_count": 12,
   "id": "6f6f73b1-21b8-413f-a1aa-3fafa56938a3",
   "metadata": {
    "tags": []
   },
   "outputs": [],
   "source": [
    "# Initialize Bedrock\n",
    "config = Config(connect_timeout=5, read_timeout=60, retries={\"total_max_attempts\": 20, \"mode\": \"adaptive\"})\n",
    "region = 'us-west-2'\n",
    "\n",
    "bedrock = boto3.client(\n",
    "                service_name='bedrock-runtime',\n",
    "                region_name=region,\n",
    "                endpoint_url=f'https://bedrock-runtime.{region}.amazonaws.com',\n",
    "                                    config=config)"
   ]
  },
  {
   "cell_type": "code",
   "execution_count": 13,
   "id": "387bb078-1a92-487d-9951-2ca845205065",
   "metadata": {
    "tags": []
   },
   "outputs": [],
   "source": [
    "# Cohere Embedding model in Bedrock\n",
    "\n",
    "def cohere_embed_query(docs: str, input_type: str) -> list[float]:\n",
    "    \"\"\"\n",
    "    Generate text embedding by using the Cohere Embed model.\n",
    "    Args:\n",
    "        docs: string of text to embed.\n",
    "        input_type: select between [search_document, search_query, classification, clustering, image]\n",
    "    Returns:\n",
    "        dict: embeddings in float type.\n",
    "    \"\"\"\n",
    "\n",
    "    body = json.dumps({\n",
    "        \"texts\": [docs],\n",
    "        \"input_type\": input_type,\n",
    "        \"embedding_types\": [\"float\"]\n",
    "\n",
    "    })\n",
    "    \n",
    "    model_id = 'cohere.embed-english-v3'\n",
    "    accept = 'application/json' \n",
    "    content_type = 'application/json'\n",
    "    \n",
    "    # Invoke model \n",
    "    response = bedrock.invoke_model(\n",
    "        body=body, \n",
    "        modelId=model_id, \n",
    "        accept=accept, \n",
    "        contentType=content_type\n",
    "    )\n",
    "    \n",
    "    # Parse response\n",
    "    response_body = json.loads(response['body'].read())\n",
    "    embedding = response_body.get('embeddings')['float'][0]\n",
    "    \n",
    "    return embedding"
   ]
  },
  {
   "cell_type": "code",
   "execution_count": 14,
   "id": "8f116832-fc66-458b-a6a0-35b4d4ded67e",
   "metadata": {
    "tags": []
   },
   "outputs": [],
   "source": [
    "# Tool 3: Query Pinecone DB\n",
    "\n",
    "@tool\n",
    "def query_pinecone_db(query: str) -> list[dict]:\n",
    "    '''\n",
    "    Searches Pinecone vector database index to retrieve documents relevant to the input query. The index contain financial statement data related to Company Compaq\n",
    "    '''\n",
    "    \n",
    "    query_embedding = cohere_embed_query(query, input_type=\"search_query\")\n",
    "\n",
    "    results = index.query(\n",
    "        namespace=namespace,\n",
    "        vector=query_embedding,\n",
    "        top_k=20,\n",
    "        include_metadata=True,\n",
    "    )\n",
    "    query_results = [{\"chunk_text\": rec['metadata']['chunk_text']} for rec in results['matches']]\n",
    "    # Sample results would look like below\n",
    "    #search_results = [\n",
    "    #    {\"chunk_text\": \"Amazon revenue for 2025 is $3 Billion\"},\n",
    "    #    {\"chunk_text\": \"Amazon revenue for 2024 is $2 Billion\"},\n",
    "    #    {\"chunk_text\": \"Amazon revenue for 2024 is $1 Billion\"},\n",
    "    #]\n",
    "    return query_results\n"
   ]
  },
  {
   "cell_type": "code",
   "execution_count": 28,
   "id": "810cfc80-332a-4a21-be42-04db1a8a5150",
   "metadata": {
    "tags": []
   },
   "outputs": [],
   "source": [
    "SYSTEM_MESSAGE = \"\"\"## Task and Context\n",
    "You are an assistant who helps developers use Cohere. \n",
    "You are equipped with a number of tools that can provide different types of information. \n",
    "If you can't find the information you need from one tool, you should try other tools if there is a possibility that they could provide the information you need.\n",
    "\n",
    "## Style Guide\n",
    "Unless the user asks for a different style of answer, you should answer in full sentences, using proper grammar and spelling\n",
    "\n",
    "## Tool Guide\n",
    "For queries related to financial information use pinecone vector database. \n",
    "For other queries use websearch\n",
    "\n",
    "\"\"\""
   ]
  },
  {
   "cell_type": "code",
   "execution_count": 29,
   "id": "9af1a76d-3b26-4282-baba-4b0dba6e03c8",
   "metadata": {
    "tags": []
   },
   "outputs": [
    {
     "name": "stdout",
     "output_type": "stream",
     "text": [
      "I will search for Compaq's revenue in 2001 in the Pinecone database.\n",
      "Tool #1: query_pinecone_db\n",
      "Compaq reported a 2001 consolidated revenue of $33.6 billion."
     ]
    }
   ],
   "source": [
    "agent = Agent(system_prompt = (SYSTEM_MESSAGE), tools=[web_search_engine,query_pinecone_db, word_count], model=bedrock_model)\n",
    "response = agent(\"what's the revenue of the company Compaq in 2001?\")"
   ]
  },
  {
   "cell_type": "code",
   "execution_count": 31,
   "id": "fffb1c80-3f6a-48f1-8041-8c9bf7d5b337",
   "metadata": {},
   "outputs": [
    {
     "name": "stdout",
     "output_type": "stream",
     "text": [
      "I will search for which company Rod Canion co-founded.\n",
      "Tool #3: web_search_engine\n",
      "Rod Canion co-founded Compaq Computer Corp. in 1982. He also founded Insource Technology Group in 1992."
     ]
    }
   ],
   "source": [
    "response = agent(\"Which company did Rod Canion cofound?\")"
   ]
  },
  {
   "cell_type": "code",
   "execution_count": 33,
   "id": "10bf903d-455b-47e0-b817-6adaaffde998",
   "metadata": {
    "tags": []
   },
   "outputs": [
    {
     "name": "stdout",
     "output_type": "stream",
     "text": [
      "I will search for the company Rod Canion co-founded and then search for its revenue in 2001.\n",
      "Tool #5: web_search_engine\n",
      "I found that Rod Canion co-founded Compaq Computer Corp. in 1982. Now I will search for Compaq's revenue in 2001.\n",
      "Tool #6: query_pinecone_db\n",
      "Compaq, the company co-founded by Rod Canion, reported a 2001 consolidated revenue of $33.6 billion."
     ]
    }
   ],
   "source": [
    "response = agent(\"What is 2001 revenue of the company Rod Canion cofound?\")"
   ]
  },
  {
   "cell_type": "code",
   "execution_count": null,
   "id": "6d6ea548-87a0-4e21-a9a4-c98ce8f2becb",
   "metadata": {},
   "outputs": [],
   "source": []
  }
 ],
 "metadata": {
  "kernelspec": {
   "display_name": "conda_python3",
   "language": "python",
   "name": "conda_python3"
  },
  "language_info": {
   "codemirror_mode": {
    "name": "ipython",
    "version": 3
   },
   "file_extension": ".py",
   "mimetype": "text/x-python",
   "name": "python",
   "nbconvert_exporter": "python",
   "pygments_lexer": "ipython3",
   "version": "3.10.17"
  }
 },
 "nbformat": 4,
 "nbformat_minor": 5
}
