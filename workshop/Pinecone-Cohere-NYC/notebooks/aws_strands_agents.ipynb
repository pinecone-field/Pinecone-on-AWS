{
 "cells": [
  {
   "cell_type": "markdown",
   "id": "bea3def6-8e25-4bf8-90ac-a9e6d124ef1a",
   "metadata": {},
   "source": [
    "## Build agentic applications using Strands Agents open source SDK by AWS"
   ]
  },
  {
   "cell_type": "markdown",
   "id": "25ee203b-3e23-4f65-98eb-d012271b4d2f",
   "metadata": {},
   "source": [
    "### Set up AWS environment\n",
    "- If you are running this notebook in SageMaker Notebook instance, you need to give SageMaker permission to access Bedrock.\n",
    "- If you are running it in your local environment, follow the steps below to set up proper permission to access your AWS resouces, espeically Bedrock:\n",
    "\n",
    "Strands supports many different model providers. By default, agents use the Amazon Bedrock model provider with the Claude 3.7 model.\n",
    "\n",
    "To use the examples in this guide, you'll need to configure your environment with AWS credentials that have permissions to invoke the Claude 3.7 model. You can set up your credentials in several ways:\n",
    "\n",
    "    Environment variables: Set AWS_ACCESS_KEY_ID, AWS_SECRET_ACCESS_KEY, and optionally AWS_SESSION_TOKEN\n",
    "    AWS credentials file: Configure credentials using aws configure CLI command\n",
    "    IAM roles: If running on AWS services like EC2, ECS, or Lambda, use IAM roles\n",
    "\n",
    "Make sure your AWS credentials have the necessary permissions to access Amazon Bedrock and invoke the Claude 3.7 model. You'll need to enable model access in the Amazon Bedrock console following the AWS documentation here: https://docs.aws.amazon.com/bedrock/latest/userguide/model-access-modify.html"
   ]
  },
  {
   "cell_type": "markdown",
   "id": "7bfc4578-9de6-471b-b625-0ae6ba1d63ed",
   "metadata": {},
   "source": [
    "### Install Strands Agents and other packages\n",
    "AWS Strands Agents Reference: https://strandsagents.com/0.1.x/user-guide/quickstart/"
   ]
  },
  {
   "cell_type": "code",
   "execution_count": null,
   "id": "bfdf8171-3384-454a-823f-9639c7442061",
   "metadata": {
    "collapsed": true,
    "jupyter": {
     "outputs_hidden": true
    },
    "tags": []
   },
   "outputs": [],
   "source": [
    "!pip install strands-agents\n",
    "!pip install strands-agents-tools \n",
    "!pip install strands-agents-builder\n",
    "!pip install pinecone cohere\n",
    "!pip install -U duckduckgo_search\n",
    "!pip install pinecone"
   ]
  },
  {
   "cell_type": "code",
   "execution_count": 5,
   "id": "13b4826e-2878-4c29-b1ba-68c11025ae26",
   "metadata": {
    "tags": []
   },
   "outputs": [],
   "source": [
    "from strands import Agent\n",
    "from strands.models import BedrockModel\n",
    "from duckduckgo_search import DDGS\n",
    "from botocore.config import Config\n",
    "import boto3\n",
    "import botocore\n",
    "from datetime import datetime, timedelta, date\n",
    "import json\n",
    "from pinecone import Pinecone"
   ]
  },
  {
   "cell_type": "markdown",
   "id": "11c889d7-2c3d-4cd3-af90-f1a8cee2c6eb",
   "metadata": {},
   "source": [
    "### 1. Test some built-in tool"
   ]
  },
  {
   "cell_type": "code",
   "execution_count": 6,
   "id": "786f9ba7-72e1-4654-8a05-4e5e3c18dee5",
   "metadata": {
    "tags": []
   },
   "outputs": [],
   "source": [
    "# Simple calculator tool\n",
    "\n",
    "from strands_tools import calculator"
   ]
  },
  {
   "cell_type": "code",
   "execution_count": null,
   "id": "476001f9-93ca-4de4-bd09-0611f0a3bbe4",
   "metadata": {
    "tags": []
   },
   "outputs": [],
   "source": [
    "agent = Agent(tools=[calculator])\n",
    "agent(\"What is the square root of 1764\")"
   ]
  },
  {
   "cell_type": "markdown",
   "id": "868a2a59-6b33-4151-a787-0c966763a463",
   "metadata": {},
   "source": [
    "### 2. Build custom tool using Python functions"
   ]
  },
  {
   "cell_type": "code",
   "execution_count": 8,
   "id": "a52f1e1d-8933-459c-a990-7ee51eba28e4",
   "metadata": {
    "tags": []
   },
   "outputs": [],
   "source": [
    "from strands import tool"
   ]
  },
  {
   "cell_type": "markdown",
   "id": "b408bad4-6029-4639-8a86-6217b0ca25c8",
   "metadata": {},
   "source": [
    "#### Tool 1: Web search engine"
   ]
  },
  {
   "cell_type": "code",
   "execution_count": 9,
   "id": "5f2613f3-ca4a-4063-bfcd-0518e06f8d57",
   "metadata": {
    "tags": []
   },
   "outputs": [],
   "source": [
    "# Tool 1: Web search engine\n",
    "\n",
    "@tool\n",
    "def web_search_engine(query: str) -> dict:\n",
    "    '''\n",
    "    Searches the internet and retrieves content relevant to the input query\n",
    "    '''\n",
    "    # search_results = DDGS().text(\"Company where Andy Jassy is CEO\", max_results=5)\n",
    "    search_results = DDGS().text(query, max_results=5)\n",
    "    \n",
    "    return search_results"
   ]
  },
  {
   "cell_type": "markdown",
   "id": "8b173cad-e9d0-4e68-b6ad-30f51fa96b69",
   "metadata": {},
   "source": [
    "#### Tool 2: Word count"
   ]
  },
  {
   "cell_type": "code",
   "execution_count": 10,
   "id": "f5915154-b0f4-4946-a5f8-7397798d1d62",
   "metadata": {
    "tags": []
   },
   "outputs": [],
   "source": [
    "@tool\n",
    "def word_count(text: str) -> int:\n",
    "    \"\"\"Count words in text.\n",
    "\n",
    "    This docstring is used by the LLM to understand the tool's purpose.\n",
    "    \"\"\"\n",
    "    return len(text.split())\n",
    "\n"
   ]
  },
  {
   "cell_type": "markdown",
   "id": "d407bba4-60eb-4e71-b5e9-4cb0bed61799",
   "metadata": {},
   "source": [
    "#### Tool 3: Pinecone search"
   ]
  },
  {
   "cell_type": "code",
   "execution_count": null,
   "id": "bc052c7f-dc37-4651-96ae-57df42b38503",
   "metadata": {
    "tags": []
   },
   "outputs": [],
   "source": [
    "pinecone_api_key = '' #Provide Pinecone API key\n",
    "\n",
    "index_name = 'pinecone-cohere-workshop' #Provide Pinecone Index name that we created in the 'Create Pinecone Index' section\n",
    "namespace = 'agentic-rag'\n",
    "\n",
    "\n",
    "pc = Pinecone(api_key=pinecone_api_key)\n",
    "\n",
    "index = pc.Index(index_name)\n",
    "print(index.describe_index_stats())"
   ]
  },
  {
   "cell_type": "code",
   "execution_count": 13,
   "id": "6f6f73b1-21b8-413f-a1aa-3fafa56938a3",
   "metadata": {
    "tags": []
   },
   "outputs": [],
   "source": [
    "# Initialize Bedrock\n",
    "config = Config(connect_timeout=5, read_timeout=60, retries={\"total_max_attempts\": 20, \"mode\": \"adaptive\"})\n",
    "region = 'us-west-2'\n",
    "\n",
    "bedrock = boto3.client(\n",
    "                service_name='bedrock-runtime',\n",
    "                region_name=region,\n",
    "                endpoint_url=f'https://bedrock-runtime.{region}.amazonaws.com',\n",
    "                                    config=config)"
   ]
  },
  {
   "cell_type": "code",
   "execution_count": 14,
   "id": "387bb078-1a92-487d-9951-2ca845205065",
   "metadata": {
    "tags": []
   },
   "outputs": [],
   "source": [
    "# Cohere Embedding model in Bedrock\n",
    "\n",
    "def cohere_embed_query(docs: str, input_type: str) -> list[float]:\n",
    "    \"\"\"\n",
    "    Generate text embedding by using the Cohere Embed model.\n",
    "    Args:\n",
    "        docs: string of text to embed.\n",
    "        input_type: select between [search_document, search_query, classification, clustering, image]\n",
    "    Returns:\n",
    "        dict: embeddings in float type.\n",
    "    \"\"\"\n",
    "\n",
    "    body = json.dumps({\n",
    "        \"texts\": [docs],\n",
    "        \"input_type\": input_type,\n",
    "        \"embedding_types\": [\"float\"]\n",
    "\n",
    "    })\n",
    "    \n",
    "    model_id = 'cohere.embed-english-v3'\n",
    "    accept = 'application/json' \n",
    "    content_type = 'application/json'\n",
    "    \n",
    "    # Invoke model \n",
    "    response = bedrock.invoke_model(\n",
    "        body=body, \n",
    "        modelId=model_id, \n",
    "        accept=accept, \n",
    "        contentType=content_type\n",
    "    )\n",
    "    \n",
    "    # Parse response\n",
    "    response_body = json.loads(response['body'].read())\n",
    "    embedding = response_body.get('embeddings')['float'][0]\n",
    "    \n",
    "    return embedding"
   ]
  },
  {
   "cell_type": "code",
   "execution_count": 15,
   "id": "8f116832-fc66-458b-a6a0-35b4d4ded67e",
   "metadata": {
    "tags": []
   },
   "outputs": [],
   "source": [
    "# Tool 3: Query Pinecone DB\n",
    "\n",
    "@tool\n",
    "def query_pinecone_db(query: str) -> list[dict]:\n",
    "    '''\n",
    "    Searches Pinecone vector database index to retrieve documents relevant to the input query. The index contain financial statement data related to Company Compaq\n",
    "    '''\n",
    "    \n",
    "    query_embedding = cohere_embed_query(query, input_type=\"search_query\")\n",
    "\n",
    "    results = index.query(\n",
    "        namespace=namespace,\n",
    "        vector=query_embedding,\n",
    "        top_k=20,\n",
    "        include_metadata=True,\n",
    "    )\n",
    "    query_results = [{\"chunk_text\": rec['metadata']['chunk_text']} for rec in results['matches']]\n",
    "    # Sample results would look like below\n",
    "    #search_results = [\n",
    "    #    {\"chunk_text\": \"Amazon revenue for 2025 is $3 Billion\"},\n",
    "    #    {\"chunk_text\": \"Amazon revenue for 2024 is $2 Billion\"},\n",
    "    #    {\"chunk_text\": \"Amazon revenue for 2024 is $1 Billion\"},\n",
    "    #]\n",
    "    return query_results\n"
   ]
  },
  {
   "cell_type": "code",
   "execution_count": 16,
   "id": "70f807a1-e27d-4a6f-bfc6-a0a7a4858438",
   "metadata": {
    "tags": []
   },
   "outputs": [],
   "source": [
    "agent = Agent(tools=[web_search_engine,query_pinecone_db, word_count])"
   ]
  },
  {
   "cell_type": "code",
   "execution_count": null,
   "id": "9af1a76d-3b26-4282-baba-4b0dba6e03c8",
   "metadata": {
    "tags": []
   },
   "outputs": [],
   "source": [
    "agent = Agent(tools=[web_search_engine,query_pinecone_db, word_count])\n",
    "response = agent(\"what's the revenue of the company Compaq?\")"
   ]
  },
  {
   "cell_type": "markdown",
   "id": "c012275b-1cb1-4e71-87e5-67c2b674daf8",
   "metadata": {},
   "source": [
    "### Strands defaults to the Bedrock model provider using Claude 3.7 Sonnet. However, we can change the LLM to others."
   ]
  },
  {
   "cell_type": "code",
   "execution_count": 18,
   "id": "3d7a37ba-20b9-4ab3-b348-fa9332139fc0",
   "metadata": {
    "tags": []
   },
   "outputs": [],
   "source": [
    "# Switch to Cohere LLM model\n",
    "\n",
    "bedrock_model = BedrockModel(\n",
    "  model_id=\"cohere.command-r-plus-v1:0\",\n",
    "  region_name = \"us-east-1\",\n",
    "  temperature=0.3,\n",
    ")\n",
    "\n",
    "agent = Agent(tools=[web_search_engine,query_pinecone_db, word_count], model=bedrock_model)"
   ]
  },
  {
   "cell_type": "code",
   "execution_count": null,
   "id": "285f1d93-1746-4e00-bc69-4a41c8d2148f",
   "metadata": {
    "tags": []
   },
   "outputs": [],
   "source": [
    "response = agent(\"what's the revenue of the company Compaq?\")"
   ]
  },
  {
   "cell_type": "code",
   "execution_count": null,
   "id": "fffb1c80-3f6a-48f1-8041-8c9bf7d5b337",
   "metadata": {},
   "outputs": [],
   "source": []
  }
 ],
 "metadata": {
  "kernelspec": {
   "display_name": "conda_pytorch_p310",
   "language": "python",
   "name": "conda_pytorch_p310"
  },
  "language_info": {
   "codemirror_mode": {
    "name": "ipython",
    "version": 3
   },
   "file_extension": ".py",
   "mimetype": "text/x-python",
   "name": "python",
   "nbconvert_exporter": "python",
   "pygments_lexer": "ipython3",
   "version": "3.10.14"
  }
 },
 "nbformat": 4,
 "nbformat_minor": 5
}
