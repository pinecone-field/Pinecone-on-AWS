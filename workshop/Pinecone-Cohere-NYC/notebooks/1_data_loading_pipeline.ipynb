{
 "cells": [
  {
   "attachments": {},
   "cell_type": "markdown",
   "metadata": {},
   "source": [
    "[![Open nbviewer](https://raw.githubusercontent.com/pinecone-io/examples/master/assets/nbviewer-shield.svg)](https://nbviewer.org/github/pinecone-io/examples/blob/master/learn/generation/aws/sagemaker/sagemaker-pinecone-rag.ipynb)"
   ]
  },
  {
   "attachments": {},
   "cell_type": "markdown",
   "metadata": {},
   "source": [
    "# Module 01 - Data Loading\n"
   ]
  },
  {
   "attachments": {},
   "cell_type": "markdown",
   "metadata": {},
   "source": [
    "This module contains notebook code to:\n",
    "* Create the Pinecone Index\n",
    "* Parse the data\n",
    "* Convert to vectors - chunking & embedding\n",
    "* Upload the vectors\n"
   ]
  },
  {
   "cell_type": "markdown",
   "metadata": {},
   "source": [
    "*******************************************************************************************************************"
   ]
  },
  {
   "attachments": {},
   "cell_type": "markdown",
   "metadata": {},
   "source": [
    "### Install required libraries"
   ]
  },
  {
   "cell_type": "code",
   "execution_count": null,
   "metadata": {
    "collapsed": false,
    "jupyter": {
     "outputs_hidden": false
    },
    "pycharm": {
     "name": "#%%\n"
    },
    "tags": []
   },
   "outputs": [],
   "source": [
    "%pip install --quiet --upgrade \\\n",
    "    pinecone-notebooks \\\n",
    "    python-dotenv \\\n",
    "    pinecone \\\n",
    "    tqdm \\\n",
    "    \"rich[jupyter]\" \\\n",
    "    tqdm \\\n",
    "    pandas \\\n",
    "    boto3 \\\n",
    "    botocore"
   ]
  },
  {
   "attachments": {},
   "cell_type": "markdown",
   "metadata": {},
   "source": [
    "To begin, we will initialize Amazon Bedrock and Pinecone that we'll need to use throughout the walkthrough."
   ]
  },
  {
   "cell_type": "code",
   "execution_count": 2,
   "metadata": {},
   "outputs": [],
   "source": [
    "# Standard library imports\n",
    "import os\n",
    "import re\n",
    "import time\n",
    "import getpass\n",
    "import difflib\n",
    "from html import unescape\n",
    "import json\n",
    "import getpass\n",
    "\n",
    "# Third-party imports\n",
    "import requests\n",
    "from tqdm import tqdm\n",
    "from dotenv import load_dotenv\n",
    "import pandas as pd\n",
    "from IPython.display import display, HTML\n",
    "import ipywidgets as widgets\n",
    "\n",
    "# Pinecone and Rich libraries\n",
    "from pinecone import Pinecone\n",
    "from pinecone import ServerlessSpec\n",
    "\n",
    "from rich import print as rprint\n",
    "from rich.console import Console\n",
    "from rich.table import Table\n",
    "from rich import box\n",
    "\n",
    "# AWS Library imports\n",
    "import boto3\n",
    "import botocore\n",
    "from botocore.config import Config"
   ]
  },
  {
   "cell_type": "markdown",
   "metadata": {},
   "source": [
    "### Initialize Pinecone"
   ]
  },
  {
   "cell_type": "code",
   "execution_count": null,
   "metadata": {},
   "outputs": [],
   "source": [
    "PINECONE_API_KEY = getpass.getpass(\"Enter Pinecone API Key\")\n",
    "pc = Pinecone(api_key=PINECONE_API_KEY, source_tag=\"pinecone_workshops:pinecone_cohere_aws:1_data_loading_pipeline\")"
   ]
  },
  {
   "cell_type": "code",
   "execution_count": 4,
   "metadata": {},
   "outputs": [],
   "source": [
    "index_name = 'pinecone-cohere-workshop' #Provide Pinecone Index name that we created in the 'Create Pinecone Index' section\n",
    "namespace = 'agentic-rag'"
   ]
  },
  {
   "cell_type": "code",
   "execution_count": 5,
   "metadata": {},
   "outputs": [],
   "source": [
    "spec = ServerlessSpec(cloud='aws', region='us-east-1') #Provide Pinecone region that we selected in the 'Create Pinecone Index' section"
   ]
  },
  {
   "cell_type": "markdown",
   "metadata": {},
   "source": [
    "### Initialize Bedrock"
   ]
  },
  {
   "cell_type": "markdown",
   "metadata": {},
   "source": [
    "#### Use the instruction provided in the link to add Amazon Bedrock permissions to the IAM role that will use this SageMaker notebook [Using SageMaker Notebooks](https://docs.aws.amazon.com/bedrock/latest/userguide/api-setup.html#api-using-sage)."
   ]
  },
  {
   "cell_type": "code",
   "execution_count": 6,
   "metadata": {},
   "outputs": [],
   "source": [
    "config = Config(connect_timeout=5, read_timeout=60, retries={\"total_max_attempts\": 20, \"mode\": \"adaptive\"})\n",
    "region = 'us-west-2'\n",
    "\n",
    "bedrock = boto3.client(\n",
    "                service_name='bedrock-runtime',\n",
    "                region_name=region,\n",
    "                endpoint_url=f'https://bedrock-runtime.{region}.amazonaws.com',\n",
    "                                    config=config)"
   ]
  },
  {
   "cell_type": "markdown",
   "metadata": {},
   "source": [
    "### Create Pinecone Index"
   ]
  },
  {
   "cell_type": "code",
   "execution_count": 7,
   "metadata": {},
   "outputs": [],
   "source": [
    "# get existing indexes\n",
    "existing_indexes = pc.list_indexes().names()"
   ]
  },
  {
   "cell_type": "code",
   "execution_count": 8,
   "metadata": {},
   "outputs": [],
   "source": [
    "# check if index already exists (it shouldn't if this is first time)\n",
    "if index_name not in existing_indexes:\n",
    "    # if does not exist, create index\n",
    "    pc.create_index(\n",
    "        index_name,\n",
    "        dimension=1024,   # Update to the dimension of the Cohere model\n",
    "        metric='cosine',\n",
    "        spec=spec\n",
    "    )\n",
    "    # wait for index to be initialized\n",
    "    while not pc.describe_index(index_name).status['ready']:\n",
    "        time.sleep(1)\n"
   ]
  },
  {
   "cell_type": "code",
   "execution_count": null,
   "metadata": {},
   "outputs": [],
   "source": [
    "# connect to index\n",
    "index = pc.Index(index_name)\n",
    "time.sleep(1)\n",
    "# view index stats\n",
    "print(index.describe_index_stats())"
   ]
  },
  {
   "attachments": {},
   "cell_type": "markdown",
   "metadata": {
    "tags": []
   },
   "source": [
    "### Loading the data"
   ]
  },
  {
   "attachments": {},
   "cell_type": "markdown",
   "metadata": {},
   "source": [
    "Let us parse the raw data and store it into the Pinecone Index. Below is the step-by-step process. For this workshop we will be using 10-K filings of Comapaq company from year 1994 to 2002 which are in text documents. Feel free to explore the data which are present in the data folder."
   ]
  },
  {
   "cell_type": "markdown",
   "metadata": {},
   "source": [
    "#### Step 1. Parse the documents and extract the text \n",
    "#### Step 2. Chunk the data and create vector embeddings\n",
    "#### Step 3. Upsert the vector embeddings into the Pinecone Index"
   ]
  },
  {
   "attachments": {
    "image.png": {
     "image/png": "[encoded data removed]"
    }
   },
   "cell_type": "markdown",
   "metadata": {},
   "source": [
    "![image.png](attachment:image.png)"
   ]
  },
  {
   "cell_type": "markdown",
   "metadata": {},
   "source": [
    "#### Unzip the pinecone_cohere_workshop_dataset.zip file present in the data folder"
   ]
  },
  {
   "cell_type": "code",
   "execution_count": null,
   "metadata": {},
   "outputs": [],
   "source": [
    "## Load Compaq's 10-K filings which are available in the data folder\n",
    "\n",
    "filing_years = ['1994', '1995', '1996', '1997', '1998', '1999', '2000', '2001', '2002']\n",
    "data_dir = '../data/pinecone_cohere_workshop_dataset'"
   ]
  },
  {
   "cell_type": "code",
   "execution_count": 11,
   "metadata": {},
   "outputs": [],
   "source": [
    "texts = {\n",
    "    year: open(f\"{data_dir}/{year}.txt\", encoding=\"utf-8\").read()\n",
    "    for year in filing_years\n",
    "}"
   ]
  },
  {
   "cell_type": "markdown",
   "metadata": {},
   "source": [
    "### Step 1: Parse the documents and extract the data\n"
   ]
  },
  {
   "cell_type": "code",
   "execution_count": 12,
   "metadata": {},
   "outputs": [],
   "source": [
    "#Remove unwanted tags, extract tables, and split the data into manageable chunks:\n",
    "def remove_unwanted_tags(text: str, keep_tags: list = None) -> str:\n",
    "    \"\"\"\n",
    "    Remove all HTML/XML tags from text except for specified tags to keep.\n",
    "\n",
    "    Args:\n",
    "        text (str): Input text containing tags.\n",
    "        keep_tags (list, optional): List of tag names to retain (without angle brackets).\n",
    "                                    Defaults to [\"TABLE\"].\n",
    "\n",
    "    Returns:\n",
    "        str: Cleaned text with unwanted tags removed.\n",
    "    \"\"\"\n",
    "    if keep_tags is None:\n",
    "        keep_tags = [\"TABLE\"]\n",
    "    keep_pattern = '|'.join(keep_tags)\n",
    "    pattern = re.compile(rf'<(?!/?(?:{keep_pattern})\\b)[^>]+>')\n",
    "    return pattern.sub('', text)\n",
    "\n",
    "\n",
    "def parse_10ks(year: str, document_text: str) -> str:\n",
    "    \"\"\"\n",
    "    Extract and clean the text enclosed within <TEXT> tags of a 10-K filing.\n",
    "\n",
    "    Args:\n",
    "        year (str): The filing year.\n",
    "        document_text (str): Raw text of the filing.\n",
    "\n",
    "    Returns:\n",
    "        str: Cleaned text within the <TEXT> tags, or an empty string if not found.\n",
    "    \"\"\"\n",
    "    pattern = re.compile(r\"<TEXT>(.*?)</TEXT>\", re.DOTALL)\n",
    "    matches = pattern.findall(document_text)\n",
    "    if not matches:\n",
    "        print(f\"Document text not found for year {year}\")\n",
    "        return \"\"\n",
    "    return remove_unwanted_tags(matches[0])"
   ]
  },
  {
   "cell_type": "markdown",
   "metadata": {},
   "source": [
    "### Step 2: Chunk the data and create vector embeddings\n"
   ]
  },
  {
   "cell_type": "code",
   "execution_count": null,
   "metadata": {},
   "outputs": [],
   "source": [
    "#Split the document text into table sections and non-table text:\n",
    "def chunk_by_table(document_text: str) -> dict:\n",
    "    \"\"\"\n",
    "    Split document text into table and non-table parts.\n",
    "\n",
    "    Args:\n",
    "        document_text (str): Raw document text.\n",
    "\n",
    "    Returns:\n",
    "        dict: Dictionary with keys 'tables' (list of table sections)\n",
    "              and 'texts' (concatenated non-table text).\n",
    "    \"\"\"\n",
    "    chunks = {\"tables\": [], \"texts\": []}\n",
    "    table_pattern = re.compile(r'(<TABLE.*?</TABLE>)', re.DOTALL | re.IGNORECASE)\n",
    "    parts = table_pattern.split(document_text)\n",
    "\n",
    "    for part in parts:\n",
    "        if not part.strip():\n",
    "            continue\n",
    "        if table_pattern.match(part):\n",
    "            chunks[\"tables\"].append(part)\n",
    "        else:\n",
    "            chunks[\"texts\"].append(part)\n",
    "\n",
    "    chunks[\"texts\"] = \"\".join(chunks[\"texts\"])\n",
    "    return chunks\n",
    "\n",
    "test_table_chunking = chunk_by_table(texts['1996'])\n",
    "\n",
    "print((test_table_chunking[\"tables\"][0]))\n"
   ]
  },
  {
   "cell_type": "code",
   "execution_count": null,
   "metadata": {},
   "outputs": [],
   "source": [
    "test_table_chunking = chunk_by_table(texts['1996'])\n",
    "\n",
    "parse_10ks(1994, test_table_chunking[\"texts\"])"
   ]
  },
  {
   "cell_type": "code",
   "execution_count": 15,
   "metadata": {},
   "outputs": [],
   "source": [
    "# split into table/not table\n",
    "\n",
    "split_by_table = {\n",
    "    year: chunk_by_table(text)\n",
    "    for year, text in texts.items()\n",
    "} "
   ]
  },
  {
   "cell_type": "code",
   "execution_count": 16,
   "metadata": {},
   "outputs": [],
   "source": [
    "# clean the non-table bits\n",
    "\n",
    "clean_texts = {\n",
    "    year: {\"tables\": chunk_data[\"tables\"],\n",
    "           \"texts\": parse_10ks(year, chunk_data[\"texts\"])}\n",
    "    for year, chunk_data in split_by_table.items()\n",
    "}"
   ]
  },
  {
   "cell_type": "code",
   "execution_count": 17,
   "metadata": {},
   "outputs": [],
   "source": [
    "#Text Chunking\n",
    "CHAR_CHUNKS = 1500\n",
    "\n",
    "def chunk_text(text: str, chunk_size: int) -> list:\n",
    "    \"\"\"\n",
    "    Split text into chunks of a specified size.\n",
    "\n",
    "    Args:\n",
    "        text (str): The text to be split.\n",
    "        chunk_size (int): Maximum number of characters per chunk.\n",
    "\n",
    "    Returns:\n",
    "        list: A list of text chunks.\n",
    "    \"\"\"\n",
    "    return [text[i:i + chunk_size] for i in range(0, len(text), chunk_size)]\n",
    "\n",
    "# chunk the texts, ignore the tables\n",
    "\n",
    "chunked_texts = {\n",
    "    year: {\"tables\": chunk_data[\"tables\"],\n",
    "           \"texts\": chunk_text(chunk_data[\"texts\"], CHAR_CHUNKS)}\n",
    "    for year, chunk_data in clean_texts.items()\n",
    "}"
   ]
  },
  {
   "cell_type": "code",
   "execution_count": null,
   "metadata": {},
   "outputs": [],
   "source": [
    "print(chunked_texts['1995']['tables'])"
   ]
  },
  {
   "cell_type": "code",
   "execution_count": 19,
   "metadata": {},
   "outputs": [],
   "source": [
    "## Transforming the data into records\n",
    "\n",
    "# reformat into records, make the ids for each chunk relate to the documentyear\n",
    "\n",
    "base_string = \"compaq\"\n",
    "# then, we add the document year and the chunk number to the base_string to create unique id\n",
    "\n",
    "all_text_records = []\n",
    "all_table_records = []\n",
    "\n",
    "for year, chunks in chunked_texts.items():\n",
    "    text_records = [\n",
    "        {\n",
    "            \"chunk_text\": chunk,\n",
    "            \"_id\": f\"{base_string}_{year}#text{num}\",\n",
    "            \"filed_year\": int(year),\n",
    "            \"chunk_type\": \"text\"\n",
    "        }\n",
    "        for num, chunk in enumerate(chunks[\"texts\"])\n",
    "    ]\n",
    "    table_records = [\n",
    "        {\n",
    "            \"chunk_text\": chunk,\n",
    "            \"_id\": f\"{base_string}_{year}#table{num}\",\n",
    "            \"filed_year\": int(year),\n",
    "            \"chunk_type\": \"table\"\n",
    "        }\n",
    "        for num, chunk in enumerate(chunks[\"tables\"])\n",
    "    ]\n",
    "    all_text_records.extend(text_records)\n",
    "    all_table_records.extend(table_records)"
   ]
  },
  {
   "cell_type": "markdown",
   "metadata": {},
   "source": [
    "### Step 3: Upsert the vector embeddings into the Pinecone Index\n"
   ]
  },
  {
   "cell_type": "code",
   "execution_count": 20,
   "metadata": {},
   "outputs": [],
   "source": [
    "def cohere_text_embeddings(docs: list, input_type: str) -> list[float]:\n",
    "    \"\"\"\n",
    "    Generate text embedding by using the Cohere Embed model.\n",
    "    Args:\n",
    "        docs: list of strings of text to embed.\n",
    "        input_type: select between [search_document, search_query, classification, clustering, image]\n",
    "    Returns:\n",
    "        dict: embeddings in float type.\n",
    "    \"\"\"\n",
    "\n",
    "    body = json.dumps({\n",
    "        \"texts\": docs,\n",
    "        \"input_type\": input_type,\n",
    "        \"embedding_types\": [\"float\"]\n",
    "    })\n",
    "    \n",
    "    model_id = 'cohere.embed-english-v3'\n",
    "    # accept = '*/*'\n",
    "    accept = 'application/json' \n",
    "    content_type = 'application/json'\n",
    "    \n",
    "    # Invoke model \n",
    "    response = bedrock.invoke_model(\n",
    "        body=body, \n",
    "        modelId=model_id, \n",
    "        accept=accept, \n",
    "        contentType=content_type\n",
    "    )\n",
    "    \n",
    "    # Parse response\n",
    "    response_body = json.loads(response['body'].read())\n",
    "    embedding = response_body.get('embeddings')['float']\n",
    "    \n",
    "    return embedding"
   ]
  },
  {
   "cell_type": "code",
   "execution_count": null,
   "metadata": {},
   "outputs": [],
   "source": [
    "# Embed in upsert into Pinecone 96 chunks at a time\n",
    "\n",
    "def upsert_in_batches(records, batch_size=96):\n",
    "    for i in tqdm(range(0, len(records), batch_size)):\n",
    "        batch = records[i:i+batch_size]\n",
    "        # Extract the record IDs for this batch\n",
    "        record_ids = [record[\"_id\"] for record in batch]\n",
    "\n",
    "        # Fetch existing records from the index for these IDs.\n",
    "        # (Assumes that the returned dict contains a \"vectors\" key with the current records.)\n",
    "        existing = index.fetch(ids=record_ids, namespace=namespace)\n",
    "        existing_ids = set(existing.vectors.keys())\n",
    "\n",
    "        # Filter out records that already exist.\n",
    "        records_to_upsert = [record for record in batch if record[\"_id\"] not in existing_ids]\n",
    "\n",
    "        if records_to_upsert:\n",
    "            # Prepare batch of texts for embedding\n",
    "            texts = [record[\"chunk_text\"] for record in records_to_upsert]\n",
    "            # Batch embedding\n",
    "            embeds_list = cohere_text_embeddings(docs=texts, input_type=\"search_document\")\n",
    "            vectors = []\n",
    "            for record, embeds in zip(records_to_upsert, embeds_list):\n",
    "                vectors.append({\n",
    "                    \"id\": record[\"_id\"],\n",
    "                    \"values\": embeds,\n",
    "                    \"metadata\": {\n",
    "                        \"filed_year\": record[\"filed_year\"],\n",
    "                        \"chunk_type\": record[\"chunk_type\"],\n",
    "                        \"chunk_text\": record[\"chunk_text\"]\n",
    "                    }\n",
    "                })\n",
    "            if vectors:\n",
    "                index.upsert(vectors=vectors, namespace=namespace)\n",
    "                time.sleep(0.5)\n",
    "\n",
    "\n",
    "upsert_in_batches(all_text_records)\n",
    "\n",
    "# Tables exceed size limits.\n",
    "# upsert_in_batches(all_table_records)"
   ]
  },
  {
   "cell_type": "code",
   "execution_count": null,
   "metadata": {},
   "outputs": [],
   "source": [
    "# view index stats\n",
    "print(index.describe_index_stats())"
   ]
  }
 ],
 "metadata": {
  "availableInstances": [
   {
    "_defaultOrder": 0,
    "_isFastLaunch": true,
    "category": "General purpose",
    "gpuNum": 0,
    "hideHardwareSpecs": false,
    "memoryGiB": 4,
    "name": "ml.t3.medium",
    "vcpuNum": 2
   },
   {
    "_defaultOrder": 1,
    "_isFastLaunch": false,
    "category": "General purpose",
    "gpuNum": 0,
    "hideHardwareSpecs": false,
    "memoryGiB": 8,
    "name": "ml.t3.large",
    "vcpuNum": 2
   },
   {
    "_defaultOrder": 2,
    "_isFastLaunch": false,
    "category": "General purpose",
    "gpuNum": 0,
    "hideHardwareSpecs": false,
    "memoryGiB": 16,
    "name": "ml.t3.xlarge",
    "vcpuNum": 4
   },
   {
    "_defaultOrder": 3,
    "_isFastLaunch": false,
    "category": "General purpose",
    "gpuNum": 0,
    "hideHardwareSpecs": false,
    "memoryGiB": 32,
    "name": "ml.t3.2xlarge",
    "vcpuNum": 8
   },
   {
    "_defaultOrder": 4,
    "_isFastLaunch": true,
    "category": "General purpose",
    "gpuNum": 0,
    "hideHardwareSpecs": false,
    "memoryGiB": 8,
    "name": "ml.m5.large",
    "vcpuNum": 2
   },
   {
    "_defaultOrder": 5,
    "_isFastLaunch": false,
    "category": "General purpose",
    "gpuNum": 0,
    "hideHardwareSpecs": false,
    "memoryGiB": 16,
    "name": "ml.m5.xlarge",
    "vcpuNum": 4
   },
   {
    "_defaultOrder": 6,
    "_isFastLaunch": false,
    "category": "General purpose",
    "gpuNum": 0,
    "hideHardwareSpecs": false,
    "memoryGiB": 32,
    "name": "ml.m5.2xlarge",
    "vcpuNum": 8
   },
   {
    "_defaultOrder": 7,
    "_isFastLaunch": false,
    "category": "General purpose",
    "gpuNum": 0,
    "hideHardwareSpecs": false,
    "memoryGiB": 64,
    "name": "ml.m5.4xlarge",
    "vcpuNum": 16
   },
   {
    "_defaultOrder": 8,
    "_isFastLaunch": false,
    "category": "General purpose",
    "gpuNum": 0,
    "hideHardwareSpecs": false,
    "memoryGiB": 128,
    "name": "ml.m5.8xlarge",
    "vcpuNum": 32
   },
   {
    "_defaultOrder": 9,
    "_isFastLaunch": false,
    "category": "General purpose",
    "gpuNum": 0,
    "hideHardwareSpecs": false,
    "memoryGiB": 192,
    "name": "ml.m5.12xlarge",
    "vcpuNum": 48
   },
   {
    "_defaultOrder": 10,
    "_isFastLaunch": false,
    "category": "General purpose",
    "gpuNum": 0,
    "hideHardwareSpecs": false,
    "memoryGiB": 256,
    "name": "ml.m5.16xlarge",
    "vcpuNum": 64
   },
   {
    "_defaultOrder": 11,
    "_isFastLaunch": false,
    "category": "General purpose",
    "gpuNum": 0,
    "hideHardwareSpecs": false,
    "memoryGiB": 384,
    "name": "ml.m5.24xlarge",
    "vcpuNum": 96
   },
   {
    "_defaultOrder": 12,
    "_isFastLaunch": false,
    "category": "General purpose",
    "gpuNum": 0,
    "hideHardwareSpecs": false,
    "memoryGiB": 8,
    "name": "ml.m5d.large",
    "vcpuNum": 2
   },
   {
    "_defaultOrder": 13,
    "_isFastLaunch": false,
    "category": "General purpose",
    "gpuNum": 0,
    "hideHardwareSpecs": false,
    "memoryGiB": 16,
    "name": "ml.m5d.xlarge",
    "vcpuNum": 4
   },
   {
    "_defaultOrder": 14,
    "_isFastLaunch": false,
    "category": "General purpose",
    "gpuNum": 0,
    "hideHardwareSpecs": false,
    "memoryGiB": 32,
    "name": "ml.m5d.2xlarge",
    "vcpuNum": 8
   },
   {
    "_defaultOrder": 15,
    "_isFastLaunch": false,
    "category": "General purpose",
    "gpuNum": 0,
    "hideHardwareSpecs": false,
    "memoryGiB": 64,
    "name": "ml.m5d.4xlarge",
    "vcpuNum": 16
   },
   {
    "_defaultOrder": 16,
    "_isFastLaunch": false,
    "category": "General purpose",
    "gpuNum": 0,
    "hideHardwareSpecs": false,
    "memoryGiB": 128,
    "name": "ml.m5d.8xlarge",
    "vcpuNum": 32
   },
   {
    "_defaultOrder": 17,
    "_isFastLaunch": false,
    "category": "General purpose",
    "gpuNum": 0,
    "hideHardwareSpecs": false,
    "memoryGiB": 192,
    "name": "ml.m5d.12xlarge",
    "vcpuNum": 48
   },
   {
    "_defaultOrder": 18,
    "_isFastLaunch": false,
    "category": "General purpose",
    "gpuNum": 0,
    "hideHardwareSpecs": false,
    "memoryGiB": 256,
    "name": "ml.m5d.16xlarge",
    "vcpuNum": 64
   },
   {
    "_defaultOrder": 19,
    "_isFastLaunch": false,
    "category": "General purpose",
    "gpuNum": 0,
    "hideHardwareSpecs": false,
    "memoryGiB": 384,
    "name": "ml.m5d.24xlarge",
    "vcpuNum": 96
   },
   {
    "_defaultOrder": 20,
    "_isFastLaunch": false,
    "category": "General purpose",
    "gpuNum": 0,
    "hideHardwareSpecs": true,
    "memoryGiB": 0,
    "name": "ml.geospatial.interactive",
    "supportedImageNames": [
     "sagemaker-geospatial-v1-0"
    ],
    "vcpuNum": 0
   },
   {
    "_defaultOrder": 21,
    "_isFastLaunch": true,
    "category": "Compute optimized",
    "gpuNum": 0,
    "hideHardwareSpecs": false,
    "memoryGiB": 4,
    "name": "ml.c5.large",
    "vcpuNum": 2
   },
   {
    "_defaultOrder": 22,
    "_isFastLaunch": false,
    "category": "Compute optimized",
    "gpuNum": 0,
    "hideHardwareSpecs": false,
    "memoryGiB": 8,
    "name": "ml.c5.xlarge",
    "vcpuNum": 4
   },
   {
    "_defaultOrder": 23,
    "_isFastLaunch": false,
    "category": "Compute optimized",
    "gpuNum": 0,
    "hideHardwareSpecs": false,
    "memoryGiB": 16,
    "name": "ml.c5.2xlarge",
    "vcpuNum": 8
   },
   {
    "_defaultOrder": 24,
    "_isFastLaunch": false,
    "category": "Compute optimized",
    "gpuNum": 0,
    "hideHardwareSpecs": false,
    "memoryGiB": 32,
    "name": "ml.c5.4xlarge",
    "vcpuNum": 16
   },
   {
    "_defaultOrder": 25,
    "_isFastLaunch": false,
    "category": "Compute optimized",
    "gpuNum": 0,
    "hideHardwareSpecs": false,
    "memoryGiB": 72,
    "name": "ml.c5.9xlarge",
    "vcpuNum": 36
   },
   {
    "_defaultOrder": 26,
    "_isFastLaunch": false,
    "category": "Compute optimized",
    "gpuNum": 0,
    "hideHardwareSpecs": false,
    "memoryGiB": 96,
    "name": "ml.c5.12xlarge",
    "vcpuNum": 48
   },
   {
    "_defaultOrder": 27,
    "_isFastLaunch": false,
    "category": "Compute optimized",
    "gpuNum": 0,
    "hideHardwareSpecs": false,
    "memoryGiB": 144,
    "name": "ml.c5.18xlarge",
    "vcpuNum": 72
   },
   {
    "_defaultOrder": 28,
    "_isFastLaunch": false,
    "category": "Compute optimized",
    "gpuNum": 0,
    "hideHardwareSpecs": false,
    "memoryGiB": 192,
    "name": "ml.c5.24xlarge",
    "vcpuNum": 96
   },
   {
    "_defaultOrder": 29,
    "_isFastLaunch": true,
    "category": "Accelerated computing",
    "gpuNum": 1,
    "hideHardwareSpecs": false,
    "memoryGiB": 16,
    "name": "ml.g4dn.xlarge",
    "vcpuNum": 4
   },
   {
    "_defaultOrder": 30,
    "_isFastLaunch": false,
    "category": "Accelerated computing",
    "gpuNum": 1,
    "hideHardwareSpecs": false,
    "memoryGiB": 32,
    "name": "ml.g4dn.2xlarge",
    "vcpuNum": 8
   },
   {
    "_defaultOrder": 31,
    "_isFastLaunch": false,
    "category": "Accelerated computing",
    "gpuNum": 1,
    "hideHardwareSpecs": false,
    "memoryGiB": 64,
    "name": "ml.g4dn.4xlarge",
    "vcpuNum": 16
   },
   {
    "_defaultOrder": 32,
    "_isFastLaunch": false,
    "category": "Accelerated computing",
    "gpuNum": 1,
    "hideHardwareSpecs": false,
    "memoryGiB": 128,
    "name": "ml.g4dn.8xlarge",
    "vcpuNum": 32
   },
   {
    "_defaultOrder": 33,
    "_isFastLaunch": false,
    "category": "Accelerated computing",
    "gpuNum": 4,
    "hideHardwareSpecs": false,
    "memoryGiB": 192,
    "name": "ml.g4dn.12xlarge",
    "vcpuNum": 48
   },
   {
    "_defaultOrder": 34,
    "_isFastLaunch": false,
    "category": "Accelerated computing",
    "gpuNum": 1,
    "hideHardwareSpecs": false,
    "memoryGiB": 256,
    "name": "ml.g4dn.16xlarge",
    "vcpuNum": 64
   },
   {
    "_defaultOrder": 35,
    "_isFastLaunch": false,
    "category": "Accelerated computing",
    "gpuNum": 1,
    "hideHardwareSpecs": false,
    "memoryGiB": 61,
    "name": "ml.p3.2xlarge",
    "vcpuNum": 8
   },
   {
    "_defaultOrder": 36,
    "_isFastLaunch": false,
    "category": "Accelerated computing",
    "gpuNum": 4,
    "hideHardwareSpecs": false,
    "memoryGiB": 244,
    "name": "ml.p3.8xlarge",
    "vcpuNum": 32
   },
   {
    "_defaultOrder": 37,
    "_isFastLaunch": false,
    "category": "Accelerated computing",
    "gpuNum": 8,
    "hideHardwareSpecs": false,
    "memoryGiB": 488,
    "name": "ml.p3.16xlarge",
    "vcpuNum": 64
   },
   {
    "_defaultOrder": 38,
    "_isFastLaunch": false,
    "category": "Accelerated computing",
    "gpuNum": 8,
    "hideHardwareSpecs": false,
    "memoryGiB": 768,
    "name": "ml.p3dn.24xlarge",
    "vcpuNum": 96
   },
   {
    "_defaultOrder": 39,
    "_isFastLaunch": false,
    "category": "Memory Optimized",
    "gpuNum": 0,
    "hideHardwareSpecs": false,
    "memoryGiB": 16,
    "name": "ml.r5.large",
    "vcpuNum": 2
   },
   {
    "_defaultOrder": 40,
    "_isFastLaunch": false,
    "category": "Memory Optimized",
    "gpuNum": 0,
    "hideHardwareSpecs": false,
    "memoryGiB": 32,
    "name": "ml.r5.xlarge",
    "vcpuNum": 4
   },
   {
    "_defaultOrder": 41,
    "_isFastLaunch": false,
    "category": "Memory Optimized",
    "gpuNum": 0,
    "hideHardwareSpecs": false,
    "memoryGiB": 64,
    "name": "ml.r5.2xlarge",
    "vcpuNum": 8
   },
   {
    "_defaultOrder": 42,
    "_isFastLaunch": false,
    "category": "Memory Optimized",
    "gpuNum": 0,
    "hideHardwareSpecs": false,
    "memoryGiB": 128,
    "name": "ml.r5.4xlarge",
    "vcpuNum": 16
   },
   {
    "_defaultOrder": 43,
    "_isFastLaunch": false,
    "category": "Memory Optimized",
    "gpuNum": 0,
    "hideHardwareSpecs": false,
    "memoryGiB": 256,
    "name": "ml.r5.8xlarge",
    "vcpuNum": 32
   },
   {
    "_defaultOrder": 44,
    "_isFastLaunch": false,
    "category": "Memory Optimized",
    "gpuNum": 0,
    "hideHardwareSpecs": false,
    "memoryGiB": 384,
    "name": "ml.r5.12xlarge",
    "vcpuNum": 48
   },
   {
    "_defaultOrder": 45,
    "_isFastLaunch": false,
    "category": "Memory Optimized",
    "gpuNum": 0,
    "hideHardwareSpecs": false,
    "memoryGiB": 512,
    "name": "ml.r5.16xlarge",
    "vcpuNum": 64
   },
   {
    "_defaultOrder": 46,
    "_isFastLaunch": false,
    "category": "Memory Optimized",
    "gpuNum": 0,
    "hideHardwareSpecs": false,
    "memoryGiB": 768,
    "name": "ml.r5.24xlarge",
    "vcpuNum": 96
   },
   {
    "_defaultOrder": 47,
    "_isFastLaunch": false,
    "category": "Accelerated computing",
    "gpuNum": 1,
    "hideHardwareSpecs": false,
    "memoryGiB": 16,
    "name": "ml.g5.xlarge",
    "vcpuNum": 4
   },
   {
    "_defaultOrder": 48,
    "_isFastLaunch": false,
    "category": "Accelerated computing",
    "gpuNum": 1,
    "hideHardwareSpecs": false,
    "memoryGiB": 32,
    "name": "ml.g5.2xlarge",
    "vcpuNum": 8
   },
   {
    "_defaultOrder": 49,
    "_isFastLaunch": false,
    "category": "Accelerated computing",
    "gpuNum": 1,
    "hideHardwareSpecs": false,
    "memoryGiB": 64,
    "name": "ml.g5.4xlarge",
    "vcpuNum": 16
   },
   {
    "_defaultOrder": 50,
    "_isFastLaunch": false,
    "category": "Accelerated computing",
    "gpuNum": 1,
    "hideHardwareSpecs": false,
    "memoryGiB": 128,
    "name": "ml.g5.8xlarge",
    "vcpuNum": 32
   },
   {
    "_defaultOrder": 51,
    "_isFastLaunch": false,
    "category": "Accelerated computing",
    "gpuNum": 1,
    "hideHardwareSpecs": false,
    "memoryGiB": 256,
    "name": "ml.g5.16xlarge",
    "vcpuNum": 64
   },
   {
    "_defaultOrder": 52,
    "_isFastLaunch": false,
    "category": "Accelerated computing",
    "gpuNum": 4,
    "hideHardwareSpecs": false,
    "memoryGiB": 192,
    "name": "ml.g5.12xlarge",
    "vcpuNum": 48
   },
   {
    "_defaultOrder": 53,
    "_isFastLaunch": false,
    "category": "Accelerated computing",
    "gpuNum": 4,
    "hideHardwareSpecs": false,
    "memoryGiB": 384,
    "name": "ml.g5.24xlarge",
    "vcpuNum": 96
   },
   {
    "_defaultOrder": 54,
    "_isFastLaunch": false,
    "category": "Accelerated computing",
    "gpuNum": 8,
    "hideHardwareSpecs": false,
    "memoryGiB": 768,
    "name": "ml.g5.48xlarge",
    "vcpuNum": 192
   },
   {
    "_defaultOrder": 55,
    "_isFastLaunch": false,
    "category": "Accelerated computing",
    "gpuNum": 8,
    "hideHardwareSpecs": false,
    "memoryGiB": 1152,
    "name": "ml.p4d.24xlarge",
    "vcpuNum": 96
   },
   {
    "_defaultOrder": 56,
    "_isFastLaunch": false,
    "category": "Accelerated computing",
    "gpuNum": 8,
    "hideHardwareSpecs": false,
    "memoryGiB": 1152,
    "name": "ml.p4de.24xlarge",
    "vcpuNum": 96
   }
  ],
  "instance_type": "ml.t3.medium",
  "kernelspec": {
   "display_name": "conda_python3",
   "language": "python",
   "name": "conda_python3"
  },
  "language_info": {
   "codemirror_mode": {
    "name": "ipython",
    "version": 3
   },
   "file_extension": ".py",
   "mimetype": "text/x-python",
   "name": "python",
   "nbconvert_exporter": "python",
   "pygments_lexer": "ipython3",
   "version": "3.10.17"
  }
 },
 "nbformat": 4,
 "nbformat_minor": 4
}
